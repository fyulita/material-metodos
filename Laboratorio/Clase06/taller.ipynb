{
 "cells": [
  {
   "cell_type": "markdown",
   "metadata": {
    "colab_type": "text",
    "id": "o59o8vD1MDdv"
   },
   "source": [
    "# Taller 3, Métodos Numéricos\n",
    "\n",
    "El objetivo del taller es ejercitar los temas de interpolación e integración numérica. Por tal motivo, se deben resolver los siguientes ejercicios y responder las preguntas justificando adecuadamente.\n",
    "\n",
    "## Evaluación y entrega\n",
    "- La evaluación será mediante un coloquio con los docentes durante la clase.\n",
    "- El taller se realiza en grupos hasta 2 ó 3 personas."
   ]
  },
  {
   "cell_type": "markdown",
   "metadata": {
    "colab_type": "text",
    "id": "tao6ynwUMVZp"
   },
   "source": [
    "## Ejercicio 1\n",
    "\n",
    "Una tabla de una variable se dice bien *condicionada* para la interpolación lineal si el error debido a la interpolación no excede al error de redondeo de la tabla. \n",
    "Se desea construir una tabla de seis cifras (error menor a $10^{-6}$) para la función $log(x)$ en el intervalo $(1,10)$, de tal manera que la tabla esté bien condicionada para interpolación lineal. \n",
    "\n",
    "\n",
    "* Determinar el tamaño del paso $h$ más grande posible y la cantidad de valores de la misma.\n",
    "\n",
    " **HINT:** Tener en cuenta que para cualquier x en el intervalo $(1,10)$, deberá existir un $j$  tal que  $x_{j} \\leq x \\leq x_{j+1}$ con $x_{j}= 1 + hj$ de manera tal que el polinomio interpolador lineal de Lagrange \n",
    " \n",
    "    $$ P(x) = L_{0}(x)f(x_{0}) + L_{1}(x)f(x_{1})$$ en ese intervalo cumpla que \n",
    "    \n",
    "    $$ |log(x) - P(x)| \\leq 10^{-6}$$   "
   ]
  },
  {
   "cell_type": "code",
   "execution_count": 14,
   "metadata": {
    "colab": {},
    "colab_type": "code",
    "executionInfo": {
     "elapsed": 1568,
     "status": "ok",
     "timestamp": 1595024026101,
     "user": {
      "displayName": "Federico Yulita",
      "photoUrl": "https://lh3.googleusercontent.com/a-/AOh14GitK3i6dm1KqhQWGsYfVs6B610sRWWkEPPKI882Jw=s64",
      "userId": "13342080252696210500"
     },
     "user_tz": 180
    },
    "id": "R4VmxqQnFCSC"
   },
   "outputs": [],
   "source": [
    "import numpy as np\n",
    "from scipy.interpolate import interp1d\n",
    "from scipy.interpolate import lagrange\n",
    "import matplotlib.pyplot as plt\n",
    "from scipy.integrate import quad"
   ]
  },
  {
   "cell_type": "markdown",
   "metadata": {
    "colab_type": "text",
    "id": "h87HX0XxFCSS"
   },
   "source": [
    "**SOLUCIÓN:**"
   ]
  },
  {
   "cell_type": "markdown",
   "metadata": {
    "colab_type": "text",
    "id": "_hAnM_VEFCSU"
   },
   "source": [
    "\n",
    "* Comparar y verifcar el error en puntos intermedios. Considerar usar la función [np.log(x)](https://docs.scipy.org/doc/numpy/reference/generated/numpy.log.html)\n"
   ]
  },
  {
   "cell_type": "code",
   "execution_count": 15,
   "metadata": {
    "colab": {
     "base_uri": "https://localhost:8080/",
     "height": 34
    },
    "colab_type": "code",
    "executionInfo": {
     "elapsed": 18961,
     "status": "ok",
     "timestamp": 1595024043913,
     "user": {
      "displayName": "Federico Yulita",
      "photoUrl": "https://lh3.googleusercontent.com/a-/AOh14GitK3i6dm1KqhQWGsYfVs6B610sRWWkEPPKI882Jw=s64",
      "userId": "13342080252696210500"
     },
     "user_tz": 180
    },
    "id": "pRaDJ2OzYF_F",
    "outputId": "1f52fbca-3edb-432d-ebf9-7fd291ffcc5d"
   },
   "outputs": [
    {
     "name": "stdout",
     "output_type": "stream",
     "text": [
      "Ok\n"
     ]
    }
   ],
   "source": [
    "def interpolacion_lineal(x, h, xs):\n",
    "    y = []\n",
    "    for xi in x:\n",
    "      if xi <= xs[0]:\n",
    "        y.append(((np.log(xs[1]) - np.log(xs[0])) / (xs[1] - xs[0])) * (xi - xs[0]) + np.log(xs[0]))\n",
    "      elif xi >= xs[-1]:\n",
    "        y.append(((np.log(xs[-1]) - np.log(xs[-2])) / (xs[-1] - xs[-2])) * (xi - xs[-1]) + np.log(xs[-1]))\n",
    "      else:\n",
    "        i = 0\n",
    "        while not (xs[i] <= xi < xs[i + 1]):\n",
    "          i += 1\n",
    "        y.append(((np.log(xs[i + 1]) - np.log(xs[i])) / (xs[i + 1] - xs[i])) * (xi - xs[i]) + np.log(xs[i]))\n",
    "      \n",
    "    return np.asarray(y)\n",
    "\n",
    "# Verifiquemos la interpolación en puntos iniciales\n",
    "h = 1e-3\n",
    "xs = np.arange(1, 10, h)\n",
    "ys = interpolacion_lineal(xs, h, xs)\n",
    "\n",
    "assert np.all(np.abs(ys - np.log(xs)) < 10**-12)\n",
    "\n",
    "# Ahora consideremos puntos intermedios a los originales\n",
    "xnew = np.linspace(1, 10, 1000)\n",
    "ynew = interpolacion_lineal(xnew, h, xs)\n",
    "\n",
    "assert np.all(np.abs(ynew - np.log(xnew)) < 1e-6)\n",
    "\n",
    "print(\"Ok\")"
   ]
  },
  {
   "cell_type": "markdown",
   "metadata": {
    "colab_type": "text",
    "id": "UlPJfvRSVmew"
   },
   "source": [
    "## Ejercicio 2\n",
    "\n",
    "* Dados los puntos $(-1,3), (1,1), (2,3), (3,7)$, determinar cuántos polinomios de grado $d$ existen que pasen por *todos* los puntos, para d $\\in \\{2, 3, 4\\} $."
   ]
  },
  {
   "cell_type": "markdown",
   "metadata": {
    "colab_type": "text",
    "id": "rmymay_eFCSe"
   },
   "source": [
    "**SOLUCIÓN:**\n",
    "\n",
    "\n",
    "     x f(x)   \n",
    "   \n",
    "    -1  3\n",
    "                                         \n",
    "               -1         \n",
    "                                   \n",
    "     1  1                    1\n",
    "                                            \n",
    "               2                  0\n",
    "                                    \n",
    "     2  3                    1\n",
    "                                        \n",
    "               4\n",
    "                                                                         \n",
    "     3  7      \n",
    "\n",
    "\n",
    "     f(x) = 3 - (x+1) + (x+1)(x-1)\n",
    "     f(x) = x^2 - x + 1\n",
    "     "
   ]
  },
  {
   "cell_type": "markdown",
   "metadata": {
    "colab_type": "text",
    "id": "wYP4M1yuFCSf"
   },
   "source": [
    "* Para cada valor de $d$, en caso de ser posible, mostrar uno. \n",
    "\n",
    "**HINT:** Utilizar el método de diferencias divididas y graficar los polinomios intermedios.\n"
   ]
  },
  {
   "cell_type": "code",
   "execution_count": 24,
   "metadata": {
    "colab": {
     "base_uri": "https://localhost:8080/",
     "height": 265
    },
    "colab_type": "code",
    "executionInfo": {
     "elapsed": 1378,
     "status": "ok",
     "timestamp": 1595024113078,
     "user": {
      "displayName": "Federico Yulita",
      "photoUrl": "https://lh3.googleusercontent.com/a-/AOh14GitK3i6dm1KqhQWGsYfVs6B610sRWWkEPPKI882Jw=s64",
      "userId": "13342080252696210500"
     },
     "user_tz": 180
    },
    "id": "rRLY6-EKXmkr",
    "outputId": "9328ce8e-cb9f-4c02-ee05-336a442a89c7"
   },
   "outputs": [
    {
     "data": {
      "image/png": "[encoded data removed]",
      "text/plain": [
       "<Figure size 432x288 with 1 Axes>"
      ]
     },
     "metadata": {
      "needs_background": "light",
      "tags": []
     },
     "output_type": "display_data"
    }
   ],
   "source": [
    "%matplotlib inline\n",
    "import numpy as np\n",
    "import matplotlib.pyplot as plt\n",
    "\n",
    "\n",
    "def eval_poli(xnew, coef, x):\n",
    "    def brackets(xs, ys):\n",
    "      if len(ys) == 1:\n",
    "          return ys[0]\n",
    "      else:\n",
    "          return (brackets(xs[1:], ys[1:]) - brackets(xs[:-1], ys[:-1])) / (xs[-1] - xs[0])\n",
    "\n",
    "    y = []\n",
    "    for xi in xnew:\n",
    "      P = coef[0]\n",
    "      for k in range(1, len(x) - 1):\n",
    "          P = P + brackets(x[:k + 1], coef[:k + 1]) * np.prod(xi - x[:k])\n",
    "\n",
    "      y.append(P)\n",
    "    \n",
    "    return y\n",
    "\n",
    "\n",
    "x = np.array([-1, 1, 2, 3])\n",
    "y = np.array([ 3, 1, 3, 7])\n",
    "\n",
    "coef = y\n",
    "xnew = np.linspace(np.min(x), np.max(x), num=41, endpoint=True)\n",
    "ynew = eval_poli(xnew, coef, x)\n",
    "\n",
    "def poli4(x):\n",
    "  y = (x ** 2 - x + 1) + 2 * (x + 1) * (x - 1) * (x - 2) * (x - 3)\n",
    "  return y\n",
    "\n",
    "poliy = poli4(xnew)\n",
    "\n",
    "plt.plot(x,y,'bo')\n",
    "plt.plot(xnew, ynew)\n",
    "plt.plot(xnew, poliy, \"r-\")\n",
    "plt.grid()"
   ]
  },
  {
   "cell_type": "markdown",
   "metadata": {
    "colab_type": "text",
    "id": "f-BABa3AFCSn"
   },
   "source": [
    "## Ejercicio 3\n",
    "\n",
    "Queremos aproximar la función coseno utilizando distintos tipos de splines y el polinomio de Lagrange para luego comparar el error obtenido."
   ]
  },
  {
   "cell_type": "code",
   "execution_count": 17,
   "metadata": {
    "colab": {
     "base_uri": "https://localhost:8080/",
     "height": 304
    },
    "colab_type": "code",
    "executionInfo": {
     "elapsed": 18096,
     "status": "ok",
     "timestamp": 1595024043920,
     "user": {
      "displayName": "Federico Yulita",
      "photoUrl": "https://lh3.googleusercontent.com/a-/AOh14GitK3i6dm1KqhQWGsYfVs6B610sRWWkEPPKI882Jw=s64",
      "userId": "13342080252696210500"
     },
     "user_tz": 180
    },
    "id": "s9qkUzt1FCSo",
    "outputId": "2a542d15-de42-4e9e-85eb-74156c49fac2"
   },
   "outputs": [
    {
     "name": "stdout",
     "output_type": "stream",
     "text": [
      "Error Lagrange: 0.03171174757248928\n",
      "Error spline lineal: 0.7930831940837283\n"
     ]
    },
    {
     "data": {
      "image/png": "[encoded data removed]",
      "text/plain": [
       "<Figure size 432x288 with 1 Axes>"
      ]
     },
     "metadata": {
      "needs_background": "light",
      "tags": []
     },
     "output_type": "display_data"
    }
   ],
   "source": [
    "from scipy.interpolate import lagrange\n",
    "\n",
    "x = np.linspace(0,10,num=10) \n",
    "y = np.cos(x)\n",
    "\n",
    "# Obtengo los polinomios segun los nodos anteriores\n",
    "\n",
    "lagr = lagrange(x, y) \n",
    "linear = interp1d(x, y, kind='linear') \n",
    "\n",
    "# Interpolamos en otros puntos\n",
    "\n",
    "xs = np.linspace(0,10,100)\n",
    "ys_lagr = lagr(xs)\n",
    "ys_lin = linear(xs)\n",
    "\n",
    "# Ploteamos\n",
    "\n",
    "plt.plot(x, y, 'o', xs, ys_lagr, '-',  xs, ys_lin, '--')\n",
    "plt.legend(['cos','Lagrange','Linear'], loc='best')\n",
    "plt.grid(b=True,which='both')\n",
    "plt.axis([0,10, -1, 1])\n",
    "\n",
    "# Error\n",
    "\n",
    "print(\"Error Lagrange: \" + str(np.linalg.norm(np.cos(xs) - ys_lagr)))\n",
    "print(\"Error spline lineal: \" + str(np.linalg.norm(np.cos(xs) - ys_lin)))"
   ]
  },
  {
   "cell_type": "markdown",
   "metadata": {
    "colab_type": "text",
    "id": "cLEinhttV8W-"
   },
   "source": [
    "* Dada la siguiente tabla de datos que representa la silueta de un **pato**, probar disintos tipos Splines junto con el polinomio de Lagrange y compararlos\n",
    "\n",
    "| x    | 0.9 | 1.3 | 1.9  | 2.1 | 2.6 | 3.0 | 3.9 | 4.4  | 4.7  | 5.0 | 6.0  | 7.0 | 8.0  | 9.2  | 10.5 | 11.3 | 11.6 | 12.0 | 12.6 | 13.0 | 13.3 |\n",
    "|------|-----|-----|------|-----|-----|-----|-----|------|------|-----|------|-----|------|------|------|------|------|------|------|------|------|\n",
    "| f(x) | 1.3 | 1.5 | 1.85 | 2.1 | 2.6 | 2.7 | 2.4 | 2.15 | 2.05 | 2.1 | 2.25 | 2.3 | 2.25 | 1.95 | 1.4  | 0.9  | 0.7  | 0.6  | 0.5  | 0.4  | 0.25 |"
   ]
  },
  {
   "cell_type": "code",
   "execution_count": 18,
   "metadata": {
    "colab": {
     "base_uri": "https://localhost:8080/",
     "height": 286
    },
    "colab_type": "code",
    "executionInfo": {
     "elapsed": 18858,
     "status": "ok",
     "timestamp": 1595024044923,
     "user": {
      "displayName": "Federico Yulita",
      "photoUrl": "https://lh3.googleusercontent.com/a-/AOh14GitK3i6dm1KqhQWGsYfVs6B610sRWWkEPPKI882Jw=s64",
      "userId": "13342080252696210500"
     },
     "user_tz": 180
    },
    "id": "uQtGx2RGWagx",
    "outputId": "74b319e8-c611-45dc-92d2-5eecdad0852e"
   },
   "outputs": [
    {
     "data": {
      "text/plain": [
       "(0.0, 14.0, -6.0, 4.0)"
      ]
     },
     "execution_count": 18,
     "metadata": {
      "tags": []
     },
     "output_type": "execute_result"
    },
    {
     "data": {
      "image/png": "[encoded data removed]",
      "text/plain": [
       "<Figure size 432x288 with 1 Axes>"
      ]
     },
     "metadata": {
      "needs_background": "light",
      "tags": []
     },
     "output_type": "display_data"
    }
   ],
   "source": [
    "x = np.array([0.9, 1.3, 1.9, 2.1, 2.6, 3.0, 3.9, 4.4, 4.7, 5.0, 6.0,\n",
    "              7.0, 8.0, 9.2, 10.5, 11.3, 11.6, 12.0, 12.6, 13.0, 13.3])\n",
    "y = np.array([1.3, 1.5, 1.85, 2.1, 2.6, 2.7, 2.4, 2.15, 2.05, 2.1, \n",
    "              2.25, 2.3, 2.25, 1.95, 1.4, 0.9, 0.7, 0.6, 0.5, 0.4, 0.25])\n",
    "\n",
    "plt.plot(x, y, 'o')\n",
    "plt.grid(b=True,which='both')\n",
    "plt.axis([0, 14, -6, 4])"
   ]
  },
  {
   "cell_type": "code",
   "execution_count": 19,
   "metadata": {
    "colab": {
     "base_uri": "https://localhost:8080/",
     "height": 286
    },
    "colab_type": "code",
    "executionInfo": {
     "elapsed": 18691,
     "status": "ok",
     "timestamp": 1595024044924,
     "user": {
      "displayName": "Federico Yulita",
      "photoUrl": "https://lh3.googleusercontent.com/a-/AOh14GitK3i6dm1KqhQWGsYfVs6B610sRWWkEPPKI882Jw=s64",
      "userId": "13342080252696210500"
     },
     "user_tz": 180
    },
    "id": "lFezO55kWeXo",
    "outputId": "ba9ff7c2-a093-4472-c18f-ad22465c1b50"
   },
   "outputs": [
    {
     "data": {
      "text/plain": [
       "(0.0, 14.0, -6.0, 4.0)"
      ]
     },
     "execution_count": 19,
     "metadata": {
      "tags": []
     },
     "output_type": "execute_result"
    },
    {
     "data": {
      "image/png": "[encoded data removed]",
      "text/plain": [
       "<Figure size 432x288 with 1 Axes>"
      ]
     },
     "metadata": {
      "needs_background": "light",
      "tags": []
     },
     "output_type": "display_data"
    }
   ],
   "source": [
    "# Obtengo los polinomios segun los nodos anteriores\n",
    "\n",
    "lagr = lagrange(x, y) \n",
    "linear = interp1d(x, y, kind='linear') \n",
    "\n",
    "# Interpolamos en otros puntos\n",
    "\n",
    "xs = np.linspace(np.min(x), np.max(x), 1000)\n",
    "ys_lagr = lagr(xs)\n",
    "ys_lin = linear(xs)\n",
    "\n",
    "# Ploteamos\n",
    "\n",
    "plt.plot(x, y, 'o', xs, ys_lagr, '-',  xs, ys_lin, '--')\n",
    "plt.legend(['cos','Lagrange','Linear'], loc='best')\n",
    "plt.grid(b=True,which='both')\n",
    "plt.axis([0, 14, -6, 4])"
   ]
  },
  {
   "cell_type": "markdown",
   "metadata": {
    "colab_type": "text",
    "id": "xaK8dvlDWqOz"
   },
   "source": [
    "## Ejercicio 4\n",
    "\n",
    "* Deducir la fórmula de Newton-Cotes para $\\int_{0}^{1}f(x)dx$ usando como nodos a los puntos $0,1$\n",
    "\n",
    "\n"
   ]
  },
  {
   "cell_type": "markdown",
   "metadata": {
    "colab_type": "text",
    "id": "0plw1FRKFCTA"
   },
   "source": [
    "**SOLUCIÓN:**\n",
    "\n",
    "$\\int_0^1 f(x) dx = \\frac{1}{2} (f(0) + f(1))$"
   ]
  },
  {
   "cell_type": "markdown",
   "metadata": {
    "colab_type": "text",
    "id": "_uOvT-WYFCTA"
   },
   "source": [
    "* Utilizar el punto anterior para integrar $\\int_{0}^{1}\\exp (-x^{2})dx$"
   ]
  },
  {
   "cell_type": "code",
   "execution_count": 63,
   "metadata": {
    "colab": {
     "base_uri": "https://localhost:8080/",
     "height": 34
    },
    "colab_type": "code",
    "executionInfo": {
     "elapsed": 1973,
     "status": "ok",
     "timestamp": 1595025332864,
     "user": {
      "displayName": "Federico Yulita",
      "photoUrl": "https://lh3.googleusercontent.com/a-/AOh14GitK3i6dm1KqhQWGsYfVs6B610sRWWkEPPKI882Jw=s64",
      "userId": "13342080252696210500"
     },
     "user_tz": 180
    },
    "id": "Q7FxZiP-W5xl",
    "outputId": "2b8dd8b3-b8ca-4b4b-f1fe-1a7d4db22bcc"
   },
   "outputs": [
    {
     "name": "stdout",
     "output_type": "stream",
     "text": [
      "0.06288441222670593\n"
     ]
    }
   ],
   "source": [
    "def gaussiana(x):\n",
    "    return np.exp(-x ** 2)\n",
    "\n",
    "# Pueden comparar contra esta función de scipy\n",
    "true_integral = quad(gaussiana, 0, 1)[0]\n",
    "integral = 0.5 * (gaussiana(0) + gaussiana(1))\n",
    "\n",
    "print(true_integral - integral)"
   ]
  },
  {
   "cell_type": "markdown",
   "metadata": {
    "colab_type": "text",
    "id": "PrEGjvoVXBHw"
   },
   "source": [
    "## Ejercicio 5\n",
    "\n",
    "* Indicar cuántos puntos se deben tomar en la aproximación de\n",
    "$$\n",
    "\\int_{0}^{1}\\exp (-x^{2})dx\n",
    "$$\n",
    "por medio de la regla de los Trapecios Compuesta para que el error sea menor que $10^{-6}$.\n",
    "\n",
    "**HINT**: Graficar el modulo de la segunda derivada de $\\exp (-x^{2})$"
   ]
  },
  {
   "cell_type": "markdown",
   "metadata": {
    "colab_type": "text",
    "id": "Ls_BtKIEFCTJ"
   },
   "source": [
    "**SOLUCIÓN:**\n",
    "\n",
    "En este caso tenemos $f(x) = \\exp{(-x^2)}$. Entonces, $f''(x) = (4x^2 - 2)\\exp{(-x^2)}$. Ya que el error está dado por $-\\frac{1}{12 n^2}f''(\\mu)$, con $\\mu \\in (0, 1)$ entonces $n \\geqslant \\sqrt{\\frac{|f''(\\mu)|}{12}} \\times 10^{3}$. Resulta que el máximo valor que toma $|f''(\\mu)|$ es 2 en $\\mu = 0$, así que $n \\geqslant 409$.\n"
   ]
  },
  {
   "cell_type": "markdown",
   "metadata": {
    "colab_type": "text",
    "id": "E__Zmm1dFCTK"
   },
   "source": [
    "\n",
    "* Calcular la aproximacion de la integral y comparar con el Ejercicio anterior"
   ]
  },
  {
   "cell_type": "code",
   "execution_count": 44,
   "metadata": {
    "colab": {
     "base_uri": "https://localhost:8080/",
     "height": 265
    },
    "colab_type": "code",
    "executionInfo": {
     "elapsed": 2292,
     "status": "ok",
     "timestamp": 1595024860135,
     "user": {
      "displayName": "Federico Yulita",
      "photoUrl": "https://lh3.googleusercontent.com/a-/AOh14GitK3i6dm1KqhQWGsYfVs6B610sRWWkEPPKI882Jw=s64",
      "userId": "13342080252696210500"
     },
     "user_tz": 180
    },
    "id": "T1I4Zu04FCTM",
    "outputId": "c44e5ead-4066-42de-83f3-90883411cf95"
   },
   "outputs": [
    {
     "data": {
      "image/png": "[encoded data removed]",
      "text/plain": [
       "<Figure size 432x288 with 1 Axes>"
      ]
     },
     "metadata": {
      "needs_background": "light",
      "tags": []
     },
     "output_type": "display_data"
    }
   ],
   "source": [
    "x = np.linspace(0, 1, 1000)\n",
    "plt.plot(x, (4 * x ** 2 - 2) * np.exp(-x ** 2))\n",
    "plt.grid()\n",
    "plt.show()"
   ]
  },
  {
   "cell_type": "code",
   "execution_count": 117,
   "metadata": {
    "colab": {
     "base_uri": "https://localhost:8080/",
     "height": 52
    },
    "colab_type": "code",
    "executionInfo": {
     "elapsed": 1227,
     "status": "ok",
     "timestamp": 1595027497577,
     "user": {
      "displayName": "Federico Yulita",
      "photoUrl": "https://lh3.googleusercontent.com/a-/AOh14GitK3i6dm1KqhQWGsYfVs6B610sRWWkEPPKI882Jw=s64",
      "userId": "13342080252696210500"
     },
     "user_tz": 180
    },
    "id": "GS3iVvGL1d0m",
    "outputId": "c6c703d3-51a3-40b0-e9ed-24f9bd88f56a"
   },
   "outputs": [
    {
     "name": "stdout",
     "output_type": "stream",
     "text": [
      "0.7468237644850262\n",
      "3.68327400912527e-07\n"
     ]
    }
   ],
   "source": [
    "def trapezoidal(a, b, n):\n",
    "    intervals = np.linspace(a, b, n + 1, endpoint=True)\n",
    "    h = (b - a) / n\n",
    "    sum = 0\n",
    "    for xi in intervals[1:n]:\n",
    "        sum = sum + gaussiana(xi)\n",
    "\n",
    "    return h * (np.sum(gaussiana(intervals[1:n])) + (gaussiana(a) + gaussiana(b)) / 2)\n",
    "\n",
    "cool_integral = trapezoidal(0, 1, 408)\n",
    "print(cool_integral)\n",
    "print(np.abs(true_integral - cool_integral))"
   ]
  },
  {
   "cell_type": "code",
   "execution_count": null,
   "metadata": {
    "colab": {},
    "colab_type": "code",
    "id": "4Tf0-D8R1u5v"
   },
   "outputs": [],
   "source": []
  }
 ],
 "metadata": {
  "colab": {
   "collapsed_sections": [],
   "name": "Copy of Taller3ipynb",
   "provenance": [
    {
     "file_id": "1qIKW4DTNkuFh_HhMz-0NWgZdvpvKBL53",
     "timestamp": 1593640954289
    },
    {
     "file_id": "11pCozm5iMchV1ZHG4ImLkcaKCk-XJgfd",
     "timestamp": 1593635529509
    }
   ]
  },
  "kernelspec": {
   "display_name": "Python 3",
   "language": "python",
   "name": "python3"
  },
  "language_info": {
   "codemirror_mode": {
    "name": "ipython",
    "version": 3
   },
   "file_extension": ".py",
   "mimetype": "text/x-python",
   "name": "python",
   "nbconvert_exporter": "python",
   "pygments_lexer": "ipython3",
   "version": "3.8.3"
  }
 },
 "nbformat": 4,
 "nbformat_minor": 4
}
