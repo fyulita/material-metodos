{
 "cells": [
  {
   "cell_type": "markdown",
   "metadata": {
    "colab_type": "text",
    "id": "M4eqA5saeAjo"
   },
   "source": [
    "Taller 2\n",
    "======\n",
    "\n",
    "------\n",
    "\n",
    "El objetivo del taller es ganar un entendimiento más profundo de los temas que entran en el segundo parcial.\n",
    "Por tal motivo, se deben resolver los siguientes ejercicios y responder las preguntas justificando adecuadamente.\n",
    "\n",
    "### Evaluación y entrega\n",
    "\n",
    "- El taller se realiza en grupos de 2 ó 3 personas.\n",
    "- La evaluación será mediante un coloquio con los docentes durante la clase."
   ]
  },
  {
   "cell_type": "code",
   "execution_count": 1,
   "metadata": {
    "colab": {},
    "colab_type": "code",
    "id": "IUs43TfWPFm2"
   },
   "outputs": [],
   "source": [
    "import numpy as np\n",
    "from numpy.linalg import eig\n",
    "import matplotlib.pyplot as plt"
   ]
  },
  {
   "cell_type": "markdown",
   "metadata": {
    "colab_type": "text",
    "id": "OVdAbS66eAjv"
   },
   "source": [
    "## Ejercicio 1\n",
    "Dada la siguiente matriz\n",
    "$$\n",
    "A =\n",
    "\\begin{pmatrix}\n",
    "\t1 & \\sqrt{3} & 0 \\\\\n",
    "\t\\sqrt{3} & 4 & \\sqrt{3}/2 \\\\\n",
    "\t0 & \\sqrt{3}/2 & 7/4\n",
    "\\end{pmatrix}\n",
    "$$\n",
    "\n",
    "Hallar $A = U \\Sigma V^t$ la descomposición en valores singulares de $A$ utilizando únicamente la función [eig](https://docs.scipy.org/doc/numpy/reference/generated/numpy.linalg.eig.html) de Numpy para calcular los autovalores y autovectores necesarios.\n",
    "\n",
    "__Sugerencia__: Considerar alguna propiedad de la matriz que pueda resultar de utilidad para simplificar los cálculos. \n"
   ]
  },
  {
   "cell_type": "code",
   "execution_count": 2,
   "metadata": {
    "colab": {},
    "colab_type": "code",
    "id": "Z8oAs68neAj0"
   },
   "outputs": [],
   "source": [
    "A = np.array([[1,          np.sqrt(3),   0           ],\n",
    "              [np.sqrt(3), 4,            np.sqrt(3)/2],\n",
    "              [0,          np.sqrt(3)/2, 7/4         ]])\n",
    "\n"
   ]
  },
  {
   "cell_type": "code",
   "execution_count": 3,
   "metadata": {
    "colab": {},
    "colab_type": "code",
    "id": "M6v_M9wweAkF"
   },
   "outputs": [],
   "source": [
    "def descomponer(A):\n",
    "  lambs, U = eig(A @ A.T)\n",
    "  lambs, V = eig(A.T @ A)\n",
    "  Sigma = U.T @ A @ V\n",
    "\n",
    "  return U, Sigma, V"
   ]
  },
  {
   "cell_type": "code",
   "execution_count": 6,
   "metadata": {
    "colab": {
     "base_uri": "https://localhost:8080/",
     "height": 208
    },
    "colab_type": "code",
    "executionInfo": {
     "elapsed": 696,
     "status": "ok",
     "timestamp": 1592000226942,
     "user": {
      "displayName": "Federico Yulita",
      "photoUrl": "https://lh3.googleusercontent.com/a-/AOh14GitK3i6dm1KqhQWGsYfVs6B610sRWWkEPPKI882Jw=s64",
      "userId": "13342080252696210500"
     },
     "user_tz": 180
    },
    "id": "yq1zCv6ClhZB",
    "outputId": "3828c05b-cbfb-4656-a17b-f68e335f5c85"
   },
   "outputs": [
    {
     "name": "stdout",
     "output_type": "stream",
     "text": [
      "[[ 0.70710678 -0.70710678  0.        ]\n",
      " [ 0.          0.          1.        ]\n",
      " [ 0.70710678  0.70710678  0.        ]]\n",
      "[[2.00000000e+00 3.33066907e-16]\n",
      " [3.14018492e-16 4.93038066e-32]\n",
      " [0.00000000e+00 0.00000000e+00]]\n",
      "[[ 0.70710678 -0.70710678]\n",
      " [ 0.70710678  0.70710678]]\n",
      "[[1. 1.]\n",
      " [0. 0.]\n",
      " [1. 1.]]\n"
     ]
    }
   ],
   "source": [
    "X = np.array([\n",
    "              [1, 1],\n",
    "              [0, 0],\n",
    "              [1, 1]\n",
    "])\n",
    "\n",
    "U, Sigma, V = descomponer(X)\n",
    "\n",
    "print(U)\n",
    "print(Sigma)\n",
    "print(V)\n",
    "\n",
    "print(U @ Sigma @ V.T)"
   ]
  },
  {
   "cell_type": "markdown",
   "metadata": {
    "colab_type": "text",
    "id": "owkr_s9YeAkd"
   },
   "source": [
    "## Ejercicio 2\n",
    "\n",
    "\n",
    "Dado el siguiente sistema lineal sobredeterminado:\n",
    "\n",
    "$$\n",
    "A x = b \\\\\n",
    "\\begin{pmatrix}\n",
    "1  & 0  & 0 \\\\\n",
    "0  & 1  & 0 \\\\\n",
    "0  & 0  & 1 \\\\\n",
    "-1 & 1  & 0 \\\\\n",
    "0  & -1 & 0 \\\\\n",
    "-1 & 0  & 1\n",
    "\\end{pmatrix}\n",
    "%\n",
    "\\begin{pmatrix}\n",
    "x_a \\\\\n",
    "x_b \\\\\n",
    "x_c\n",
    "\\end{pmatrix}\n",
    "=\n",
    "\\begin{pmatrix}\n",
    "1 \\\\ \n",
    "2 \\\\ \n",
    "3 \\\\\n",
    "1 \\\\\n",
    "2 \\\\\n",
    "1\n",
    "\\end{pmatrix}\n",
    "$$\n",
    "\n",
    "- Hallar $x^*$ mediante cuadrados mínimos, utilizando ecuaciones normales. ¿Bajo que condiciones esta solución es única?\n",
    "\n",
    "\n",
    "- Probar que el residuo, $r = b-Ax$ resulta ortogonal a $Im(A)$ si $x = x^*$ es la solución de cuadrados mínimos\n",
    "\n",
    "\n",
    "- Dar una interpretación geométrica de la solución de cuadrados mínimos lineales para *este ejemplo*.\n",
    "\n",
    "__Sugerencia:__ Utilizar la función [solve](https://docs.scipy.org/doc/numpy/reference/generated/numpy.linalg.solve.html) de Numpy para encontrar la solución de un sistema determinado.\n"
   ]
  },
  {
   "cell_type": "code",
   "execution_count": 84,
   "metadata": {
    "colab": {
     "base_uri": "https://localhost:8080/",
     "height": 86
    },
    "colab_type": "code",
    "executionInfo": {
     "elapsed": 708,
     "status": "ok",
     "timestamp": 1592005236336,
     "user": {
      "displayName": "Federico Yulita",
      "photoUrl": "https://lh3.googleusercontent.com/a-/AOh14GitK3i6dm1KqhQWGsYfVs6B610sRWWkEPPKI882Jw=s64",
      "userId": "13342080252696210500"
     },
     "user_tz": 180
    },
    "id": "o4VdCUq2eAkf",
    "outputId": "491df8a1-6a51-4e38-e0ec-345aa3485837"
   },
   "outputs": [
    {
     "name": "stdout",
     "output_type": "stream",
     "text": [
      "[-1.11022302e-15  1.33226763e-15  1.99840144e-15]\n"
     ]
    },
    {
     "name": "stderr",
     "output_type": "stream",
     "text": [
      "/usr/local/lib/python3.6/dist-packages/ipykernel_launcher.py:13: FutureWarning: `rcond` parameter will change to the default of machine precision times ``max(M, N)`` where M and N are the input matrix dimensions.\n",
      "To use the future default and silence this warning we advise to pass `rcond=None`, to keep using the old, explicitly pass `rcond=-1`.\n",
      "  del sys.path[0]\n"
     ]
    }
   ],
   "source": [
    "A = np.array([[1, 0, 0],\n",
    "              [0, 1, 0],\n",
    "              [0, 0, 1],\n",
    "              [-1, 1, 0],\n",
    "              [0, -1, 0],\n",
    "              [-1, 0, 1]])\n",
    "\n",
    "b = np.array([1, 2, 3, 1, 2, 1])\n",
    "\n",
    "x = np.linalg.solve(A.T @ A, A.T @ b)\n",
    "\n",
    "# Prueba con numpy para verificar\n",
    "x_np = np.linalg.lstsq(A, b)[0]\n",
    "\n",
    "np.allclose(x, x_np)\n",
    "\n",
    "# Como esto da 0 entonces se cumple que r es ortogonal a la imagen de A.\n",
    "r = b - A @ x_np\n",
    "print(A.T @ r)\n",
    "\n",
    "# A @ x = (x_a, x_b, x_c, -x_a + x_b, -x_b, -x_a + x_c)\n"
   ]
  },
  {
   "cell_type": "markdown",
   "metadata": {
    "colab_type": "text",
    "id": "pYI-XagxoWGX"
   },
   "source": []
  },
  {
   "cell_type": "markdown",
   "metadata": {
    "colab_type": "text",
    "id": "ZTExqkrVeAk8"
   },
   "source": [
    "## Ejercicio 3\n",
    "\n",
    "- Completar los métodos de Jacobi y Gauss-Seidel. Tener en cuenta que las funciones también deben devolver el vector de errores que resulta de comparar la solución aproximada de una iteración contra la solución conocida $x\\_direct$ obtenida mediante la  función [solve](https://docs.scipy.org/doc/numpy/reference/generated/numpy.linalg.solve.html) de Numpy.\n",
    "\n",
    "- Probar los métodos con la matriz A (definida en el código), graficar y  analizar el error de la solución. ¿Converge a una solución?¿Cómo podría justificarse lo anterior?\n"
   ]
  },
  {
   "cell_type": "code",
   "execution_count": null,
   "metadata": {
    "colab": {},
    "colab_type": "code",
    "id": "AeByES9teAlA"
   },
   "outputs": [],
   "source": [
    "def jacobi(A,b,reps,x_ini,x_direct):\n",
    "    # Matrices para los metodos iterativos\n",
    "    D = np.diagflat(np.diag(A))\n",
    "    L = np.tril(-(A - D))\n",
    "    U = np.triu(-(A - D))\n",
    "    \n",
    "    T = np.linalg.inv(D) @ (L + U)\n",
    "    c = np.linalg.inv(D) @ b\n",
    "  \n",
    "    xi = x_ini\n",
    "    error = []\n",
    "    for i in range(reps):\n",
    "        xi = T @ xi + c\n",
    "        error.append(np.linalg.norm(xi - x_direct))\n",
    "    return xi, error"
   ]
  },
  {
   "cell_type": "code",
   "execution_count": 49,
   "metadata": {
    "colab": {
     "base_uri": "https://localhost:8080/",
     "height": 34
    },
    "colab_type": "code",
    "executionInfo": {
     "elapsed": 468,
     "status": "ok",
     "timestamp": 1592002429778,
     "user": {
      "displayName": "Federico Yulita",
      "photoUrl": "https://lh3.googleusercontent.com/a-/AOh14GitK3i6dm1KqhQWGsYfVs6B610sRWWkEPPKI882Jw=s64",
      "userId": "13342080252696210500"
     },
     "user_tz": 180
    },
    "id": "SAhSPoy2sTEF",
    "outputId": "45ef2ac1-b668-4d38-cf4f-a1196cb11bd5"
   },
   "outputs": [
    {
     "data": {
      "text/plain": [
       "array([ 1.1   , -0.7125,  0.0375])"
      ]
     },
     "execution_count": 49,
     "metadata": {
      "tags": []
     },
     "output_type": "execute_result"
    }
   ],
   "source": [
    "A = np.array([\n",
    "              [5, 2, -2],\n",
    "              [1, 3, 1],\n",
    "              [2, 2, 6]\n",
    "])\n",
    "b = np.array([4, -1, 1])\n",
    "x_exp = np.array([11 / 10, -57 / 80, 3 / 80])\n",
    "\n",
    "x, err = jacobi(A, b, 100, np.zeros(3), x_exp)\n",
    "\n",
    "x"
   ]
  },
  {
   "cell_type": "code",
   "execution_count": null,
   "metadata": {
    "colab": {},
    "colab_type": "code",
    "id": "H-7JdxsEeAlM"
   },
   "outputs": [],
   "source": [
    "def gauss_seidel(A,b,reps,x_ini,x_direct):\n",
    "    # Matrices para los metodos iterativos\n",
    "    D = np.diagflat(np.diag(A))\n",
    "    L = np.tril(-(A - D))\n",
    "    U = np.triu(-(A - D))\n",
    "    \n",
    "    T = np.linalg.inv(D - L) @ U\n",
    "    c = np.linalg.inv(D - L) @ b\n",
    "\n",
    "    xi = x_ini\n",
    "    error = []\n",
    "    for i in range(reps):\n",
    "        xi = T @ xi + c\n",
    "        error.append(np.linalg.norm(xi - x_direct))\n",
    "    return xi, error"
   ]
  },
  {
   "cell_type": "code",
   "execution_count": 51,
   "metadata": {
    "colab": {
     "base_uri": "https://localhost:8080/",
     "height": 34
    },
    "colab_type": "code",
    "executionInfo": {
     "elapsed": 529,
     "status": "ok",
     "timestamp": 1592002479183,
     "user": {
      "displayName": "Federico Yulita",
      "photoUrl": "https://lh3.googleusercontent.com/a-/AOh14GitK3i6dm1KqhQWGsYfVs6B610sRWWkEPPKI882Jw=s64",
      "userId": "13342080252696210500"
     },
     "user_tz": 180
    },
    "id": "ErW1tGkTvdY1",
    "outputId": "4e08cf9d-9393-4751-da71-98967ab1fe13"
   },
   "outputs": [
    {
     "data": {
      "text/plain": [
       "array([ 1.1   , -0.7125,  0.0375])"
      ]
     },
     "execution_count": 51,
     "metadata": {
      "tags": []
     },
     "output_type": "execute_result"
    }
   ],
   "source": [
    "A = np.array([\n",
    "              [5, 2, -2],\n",
    "              [1, 3, 1],\n",
    "              [2, 2, 6]\n",
    "])\n",
    "b = np.array([4, -1, 1])\n",
    "x_exp = np.array([11 / 10, -57 / 80, 3 / 80])\n",
    "\n",
    "x, err = gauss_seidel(A, b, 100, np.zeros(3), x_exp)\n",
    "\n",
    "x"
   ]
  },
  {
   "cell_type": "code",
   "execution_count": 53,
   "metadata": {
    "colab": {
     "base_uri": "https://localhost:8080/",
     "height": 347
    },
    "colab_type": "code",
    "executionInfo": {
     "elapsed": 823,
     "status": "ok",
     "timestamp": 1592002539805,
     "user": {
      "displayName": "Federico Yulita",
      "photoUrl": "https://lh3.googleusercontent.com/a-/AOh14GitK3i6dm1KqhQWGsYfVs6B610sRWWkEPPKI882Jw=s64",
      "userId": "13342080252696210500"
     },
     "user_tz": 180
    },
    "id": "dV_L6nfDeAlX",
    "outputId": "562161f6-db4f-4512-888c-717cdb8699f2"
   },
   "outputs": [
    {
     "name": "stdout",
     "output_type": "stream",
     "text": [
      "Jacobi:\n",
      "Estimacion: [ 0.73045612 -1.32921366  2.79533341]\n",
      "Respuesta correcta [ 0.74628648 -1.36616872  2.88528748]\n"
     ]
    },
    {
     "data": {
      "image/png": "[encoded data removed]",
      "text/plain": [
       "<Figure size 432x288 with 1 Axes>"
      ]
     },
     "metadata": {
      "needs_background": "light",
      "tags": []
     },
     "output_type": "display_data"
    }
   ],
   "source": [
    "A = np.array([[8,np.sqrt(2),1/3],\n",
    "              [np.sqrt(3),10, 5.5],\n",
    "              [0,1 , 7/6]])\n",
    "b = np.array([5,3.5,2])\n",
    "\n",
    "x = np.linalg.solve(A,b)\n",
    "\n",
    "x_jacobi, error = jacobi(A, b, 10, np.zeros(len(x)), x)\n",
    "\n",
    "print(\"Jacobi:\")\n",
    "print(\"Estimacion:\", x_jacobi)\n",
    "print(\"Respuesta correcta\", x)\n",
    "\n",
    "plt.plot(error)\n",
    "plt.title(\"Error de Jacobi\")\n",
    "plt.xlabel(\"Iteracion\")\n",
    "plt.ylabel(\"error\")\n",
    "plt.yscale('log')\n",
    "plt.show()"
   ]
  },
  {
   "cell_type": "code",
   "execution_count": 54,
   "metadata": {
    "colab": {
     "base_uri": "https://localhost:8080/",
     "height": 347
    },
    "colab_type": "code",
    "executionInfo": {
     "elapsed": 764,
     "status": "ok",
     "timestamp": 1592002571355,
     "user": {
      "displayName": "Federico Yulita",
      "photoUrl": "https://lh3.googleusercontent.com/a-/AOh14GitK3i6dm1KqhQWGsYfVs6B610sRWWkEPPKI882Jw=s64",
      "userId": "13342080252696210500"
     },
     "user_tz": 180
    },
    "id": "5lrHEwQreAlg",
    "outputId": "d307e623-40bf-481d-bd6d-0c3e7109e93d"
   },
   "outputs": [
    {
     "name": "stdout",
     "output_type": "stream",
     "text": [
      "Gauss-Seidel:\n",
      "Estimacion: [ 0.74545748 -1.36325462  2.88278967]\n",
      "Respuesta correcta [ 0.74628648 -1.36616872  2.88528748]\n"
     ]
    },
    {
     "data": {
      "image/png": "[encoded data removed]",
      "text/plain": [
       "<Figure size 432x288 with 1 Axes>"
      ]
     },
     "metadata": {
      "needs_background": "light",
      "tags": []
     },
     "output_type": "display_data"
    }
   ],
   "source": [
    "# Idem para gauss-seidel\n",
    "x_gs, error = gauss_seidel(A, b, 10, np.zeros(len(x)), x)\n",
    "\n",
    "print(\"Gauss-Seidel:\")\n",
    "print(\"Estimacion:\", x_gs)\n",
    "print(\"Respuesta correcta\", x)\n",
    "\n",
    "plt.plot(error)\n",
    "plt.title(\"Error de Gauss-Seidel\")\n",
    "plt.xlabel(\"Iteracion\")\n",
    "plt.ylabel(\"error\")\n",
    "plt.yscale('log')\n",
    "plt.show()\n",
    "\n"
   ]
  },
  {
   "cell_type": "markdown",
   "metadata": {
    "colab_type": "text",
    "id": "I3SfLOcKeAls"
   },
   "source": [
    "## Ejercicio 4\n",
    "\n",
    "\n",
    "Considerar los siguientes datos que fueron generados a partir de un polinomio de grado 2:\n",
    "\n",
    "$$p(x) = 4 x + 0.5 x^2 + C$$\n",
    "\n",
    "donde $C$ ruido agregado con distribución normal\n",
    "\n",
    "Los mismos serán los datos a ajustar utilizando cuadrados mínimos lineales."
   ]
  },
  {
   "cell_type": "code",
   "execution_count": 68,
   "metadata": {
    "colab": {
     "base_uri": "https://localhost:8080/",
     "height": 281
    },
    "colab_type": "code",
    "executionInfo": {
     "elapsed": 976,
     "status": "ok",
     "timestamp": 1592003067903,
     "user": {
      "displayName": "Federico Yulita",
      "photoUrl": "https://lh3.googleusercontent.com/a-/AOh14GitK3i6dm1KqhQWGsYfVs6B610sRWWkEPPKI882Jw=s64",
      "userId": "13342080252696210500"
     },
     "user_tz": 180
    },
    "id": "ShqL7JVIeAlw",
    "outputId": "9bddbf11-87e6-45ac-eb99-5a9871ef775d"
   },
   "outputs": [
    {
     "data": {
      "image/png": "[encoded data removed]",
      "text/plain": [
       "<Figure size 432x288 with 1 Axes>"
      ]
     },
     "metadata": {
      "needs_background": "light",
      "tags": []
     },
     "output_type": "display_data"
    }
   ],
   "source": [
    "def p(x):\n",
    "    'implementar la funcion p(x) enunciada en la celda de arriba'\n",
    "    'tener en cuenta que x está en R'\n",
    "    \n",
    "    C = np.random.normal()\n",
    "    y = 4 * x + 0.5 * x ** 2 + C\n",
    "    return y\n",
    "\n",
    "# Creo valores entre 1 y 40 espaciados 0.1\n",
    "x = np.arange(1, 40, 0.1)\n",
    "y = p(x)\n",
    "\n",
    "plt.plot(x, y, '.')\n",
    "plt.title('Datos a ajustar')\n",
    "plt.show()"
   ]
  },
  {
   "cell_type": "markdown",
   "metadata": {
    "colab_type": "text",
    "id": "8CRqaoyveAl2"
   },
   "source": [
    "### Propuesta: \n",
    "La idea será ajustar un polinomio $f(x)$ de grado 4 a los datos anteriores. \n",
    "Es decir, considerando la familia de funciones $F = \\{x,x^{2},x^{3},x^{4}\\}$ queremos encontrar una función $f(x) = a_{0}x+a_{1}x^{2}+a_{2}x^{3}+a_{3}x^{4}$, una combinación lineal de ellas, que \"mejor aproxime\", en términos de cuadrados mínimos, a $p(x)$. \n",
    "\n",
    "### Implementación:\n",
    "Para esto, podríamos utilizar cuadrados mínimos a través de ecuaciones normales resueltas por un método directo (_np.linalg.solve_).\n",
    "Recordar que la matriz A de CML tiene la siguiente forma:\n",
    "$$A=\n",
    "\\begin{pmatrix}\n",
    "\\delta_{1}(x_{1}) & \\delta_{2}(x_{1}) & \\ldots  & \\delta_{n}(x_{1}) \\\\\n",
    "\\vdots & \\vdots & \\ldots & \\vdots \\\\\n",
    "\\delta_{1}(x_{m}) & \\delta_{2}(x_{m}) & \\ldots  & \\delta_{n}(x_{m}) \\\\\n",
    "\\end{pmatrix} $$\n",
    "\n",
    "\n",
    "En este caso particular, utilizando la función [np.stack](https://numpy.org/doc/stable/reference/generated/numpy.stack.html) y el vector x creado previamente, buscamos:\n",
    "\n",
    "$$A=\n",
    "\\begin{pmatrix}\n",
    "x_{1} & x_{1}^{2} & x_{1}^{3} & x_{1}^{4} \\\\\n",
    "\\vdots & \\vdots & \\ldots & \\vdots \\\\\n",
    "x_{390} & x_{390}^{2} & x_{390}^{3} & x_{390}^{4} \\\\\n",
    "\\end{pmatrix} $$\n",
    "\n"
   ]
  },
  {
   "cell_type": "code",
   "execution_count": 70,
   "metadata": {
    "colab": {
     "base_uri": "https://localhost:8080/",
     "height": 34
    },
    "colab_type": "code",
    "executionInfo": {
     "elapsed": 610,
     "status": "ok",
     "timestamp": 1592003077148,
     "user": {
      "displayName": "Federico Yulita",
      "photoUrl": "https://lh3.googleusercontent.com/a-/AOh14GitK3i6dm1KqhQWGsYfVs6B610sRWWkEPPKI882Jw=s64",
      "userId": "13342080252696210500"
     },
     "user_tz": 180
    },
    "id": "81wkOv_eeAl5",
    "outputId": "add335f4-cc7f-422f-9fd4-4d4df892fe10"
   },
   "outputs": [
    {
     "name": "stdout",
     "output_type": "stream",
     "text": [
      "Solucion encontrada:[ 4.23829281e+00  4.79348331e-01  6.84797607e-04 -7.68047185e-06]\n"
     ]
    }
   ],
   "source": [
    "A = np.stack([x, x ** 2, x ** 3, x ** 4]).T\n",
    "b = y\n",
    "\n",
    "AtA = A.T @ A \n",
    "Atb = A.T @ b\n",
    "\n",
    "x_direct = np.linalg.solve(AtA, Atb)\n",
    "print(\"Solucion encontrada:\" + str(x_direct)) "
   ]
  },
  {
   "cell_type": "markdown",
   "metadata": {
    "colab_type": "text",
    "id": "3j-8NiUUeAmB"
   },
   "source": [
    "### Responder:\n",
    "\n",
    "- Estimar la solución de cuadrados mínimos utilizando los métodos iterativos del punto 3 y graficar los errores de los métodos (con respecto a la solución hallada con el método directo) en función de las iteraciones.\n",
    "- Indicar si los métodos convergen. Justificar adecuadamente.\n",
    "\n"
   ]
  },
  {
   "cell_type": "code",
   "execution_count": 75,
   "metadata": {
    "colab": {
     "base_uri": "https://localhost:8080/",
     "height": 677
    },
    "colab_type": "code",
    "executionInfo": {
     "elapsed": 1031,
     "status": "ok",
     "timestamp": 1592003317791,
     "user": {
      "displayName": "Federico Yulita",
      "photoUrl": "https://lh3.googleusercontent.com/a-/AOh14GitK3i6dm1KqhQWGsYfVs6B610sRWWkEPPKI882Jw=s64",
      "userId": "13342080252696210500"
     },
     "user_tz": 180
    },
    "id": "EFeu7HU6eAmD",
    "outputId": "fd5037d7-b080-4ee2-c7f2-5e63fa4d8b27"
   },
   "outputs": [
    {
     "name": "stdout",
     "output_type": "stream",
     "text": [
      "Jacobi:\n",
      "Estimacion: [-5.77830641e+09 -1.94864843e+08 -5.74648301e+06 -1.59853982e+05]\n",
      "Respuesta correcta [ 4.23829281e+00  4.79348331e-01  6.84797607e-04 -7.68047185e-06]\n"
     ]
    },
    {
     "data": {
      "image/png": "[encoded data removed]",
      "text/plain": [
       "<Figure size 432x288 with 1 Axes>"
      ]
     },
     "metadata": {
      "needs_background": "light",
      "tags": []
     },
     "output_type": "display_data"
    },
    {
     "name": "stdout",
     "output_type": "stream",
     "text": [
      "Gauss-Seidel:\n",
      "Estimacion: [8.80199683e+00 1.96759899e-01 3.01148960e-03 4.70845789e-05]\n",
      "Respuesta correcta [ 4.23829281e+00  4.79348331e-01  6.84797607e-04 -7.68047185e-06]\n"
     ]
    },
    {
     "data": {
      "image/png": "[encoded data removed]",
      "text/plain": [
       "<Figure size 432x288 with 1 Axes>"
      ]
     },
     "metadata": {
      "needs_background": "light",
      "tags": []
     },
     "output_type": "display_data"
    }
   ],
   "source": [
    "# Jacobi\n",
    "x_ini = np.zeros(AtA.shape[1])\n",
    "reps = 20\n",
    "x_jacobi, error = jacobi(AtA, Atb, reps, x_ini, x_direct)\n",
    "\n",
    "print(\"Jacobi:\")\n",
    "print(\"Estimacion:\", x_jacobi)\n",
    "print(\"Respuesta correcta\", x_direct)\n",
    "\n",
    "plt.plot(error)\n",
    "plt.title(\"Error de Jacobi\")\n",
    "plt.xlabel(\"Iteracion\")\n",
    "plt.ylabel(\"error\")\n",
    "plt.yscale('log')\n",
    "plt.show()\n",
    "\n",
    "\n",
    "# Gauss-Seidel\n",
    "reps = 20\n",
    "x_ini = np.zeros(AtA.shape[1])\n",
    "x_gs, error = gauss_seidel(AtA, Atb, reps, x_ini, x_direct)\n",
    "\n",
    "print(\"Gauss-Seidel:\")\n",
    "print(\"Estimacion:\", x_gs)\n",
    "print(\"Respuesta correcta\", x_direct)\n",
    "\n",
    "plt.plot(error)\n",
    "plt.title(\"Error de Gauss-Seidel\")\n",
    "plt.xlabel(\"Iteracion\")\n",
    "plt.ylabel(\"error\")\n",
    "plt.yscale('log')\n",
    "plt.show()"
   ]
  },
  {
   "cell_type": "markdown",
   "metadata": {
    "colab_type": "text",
    "id": "Sl9gTlsxeAmM"
   },
   "source": [
    "### Ajustando la función\n",
    "\n",
    "Recapitulando, queríamos encontrar con CML los coeficientes para $f(x) = a_{0}x+a_{1}x^{2}+a_{2}x^{3}+a_{3}x^{4}$. \n",
    "\n",
    "Para encontrar la solución, utilizamos ecuaciones normales que resolvimos primero utilizando un método directo y luego uno iterativo. Idealmente, ambas soluciones deberían \"parecerse\".\n",
    "\n",
    "Finalmente, nos interesa ver como se ajusta nuestra función a los datos originales.\n",
    "\n",
    "### Responder: \n",
    "- A partir de lo anterior, fittear la función estimada, f(x) a los datos originales. Mostrar en un gráfico.\n",
    "- ¿Qué puede decirse sobre los valores estimados de los coeficientes de mayor grado?"
   ]
  },
  {
   "cell_type": "code",
   "execution_count": null,
   "metadata": {
    "colab": {},
    "colab_type": "code",
    "id": "ESVl-sGVPFoT"
   },
   "outputs": [],
   "source": [
    "def f(x,coef):\n",
    "    'implementar la funcion f(x) que ajustará a los datos'\n",
    "    'tener en cuenta que x esta en R y coef es el vector con los coeficientes a_0 ... a_3'\n",
    "    \n",
    "    y = 0\n",
    "    for i in range(len(coef)):\n",
    "      y += coef[i] * x ** (i + 1)\n",
    "    \n",
    "    return y"
   ]
  },
  {
   "cell_type": "code",
   "execution_count": 79,
   "metadata": {
    "colab": {
     "base_uri": "https://localhost:8080/",
     "height": 295
    },
    "colab_type": "code",
    "executionInfo": {
     "elapsed": 1322,
     "status": "ok",
     "timestamp": 1592003591372,
     "user": {
      "displayName": "Federico Yulita",
      "photoUrl": "https://lh3.googleusercontent.com/a-/AOh14GitK3i6dm1KqhQWGsYfVs6B610sRWWkEPPKI882Jw=s64",
      "userId": "13342080252696210500"
     },
     "user_tz": 180
    },
    "id": "u9uxvvCAPFoY",
    "outputId": "c13fe731-106e-4447-cf6a-af8a47321a72"
   },
   "outputs": [
    {
     "data": {
      "image/png": "[encoded data removed]",
      "text/plain": [
       "<Figure size 432x288 with 1 Axes>"
      ]
     },
     "metadata": {
      "needs_background": "light",
      "tags": []
     },
     "output_type": "display_data"
    }
   ],
   "source": [
    "coef = [4.23829281e+00, 4.79348331e-01, 6.84797607e-04, -7.68047185e-06]\n",
    "y_pred = f(x,coef)\n",
    "\n",
    "plt.plot(x,y, '.') # puntos originales\n",
    "\n",
    "plt.plot(x,y_pred, 'r') # puntos estimados\n",
    "\n",
    "plt.title(\"Polinomio ajustado\")\n",
    "plt.xlabel(\"x\")\n",
    "plt.ylabel(\"y\");"
   ]
  },
  {
   "cell_type": "code",
   "execution_count": null,
   "metadata": {
    "colab": {},
    "colab_type": "code",
    "id": "_huMmgUDeAmP"
   },
   "outputs": [],
   "source": [
    "### Predicciones\n",
    "# Vimos que otra de las aplicaciones de este método es poder predecir la variable dependiente para instancias desconocidas. Para ver esto, podemos tomar otro rango de valores de x y observar como se \"extrapola\""
   ]
  },
  {
   "cell_type": "code",
   "execution_count": 83,
   "metadata": {
    "colab": {
     "base_uri": "https://localhost:8080/",
     "height": 295
    },
    "colab_type": "code",
    "executionInfo": {
     "elapsed": 858,
     "status": "ok",
     "timestamp": 1592003780293,
     "user": {
      "displayName": "Federico Yulita",
      "photoUrl": "https://lh3.googleusercontent.com/a-/AOh14GitK3i6dm1KqhQWGsYfVs6B610sRWWkEPPKI882Jw=s64",
      "userId": "13342080252696210500"
     },
     "user_tz": 180
    },
    "id": "2Dk-88JyPFoj",
    "outputId": "7410463f-abb1-42ce-c057-e8bc0db10571"
   },
   "outputs": [
    {
     "data": {
      "image/png": "[encoded data removed]",
      "text/plain": [
       "<Figure size 432x288 with 1 Axes>"
      ]
     },
     "metadata": {
      "needs_background": "light",
      "tags": []
     },
     "output_type": "display_data"
    }
   ],
   "source": [
    "x_new  = np.concatenate([np.arange(-5, 1, 0.1),[np.nan],np.arange(40, 46, 0.1)])\n",
    "y_pred = f(x_new, coef)\n",
    "\n",
    "# Puntos originales\n",
    "plt.plot(x,y, '.')\n",
    "\n",
    "# Puntos estimados\n",
    "plt.plot(x_new,y_pred, 'r') \n",
    "\n",
    "\n",
    "plt.title(\"Polinomio ajustado\")\n",
    "plt.xlabel(\"x\")\n",
    "plt.ylabel(\"y\");\n"
   ]
  },
  {
   "cell_type": "code",
   "execution_count": null,
   "metadata": {
    "colab": {},
    "colab_type": "code",
    "id": "Jk9p2ubhPFon"
   },
   "outputs": [],
   "source": []
  }
 ],
 "metadata": {
  "colab": {
   "name": "Copy of alu.ipynb",
   "provenance": [
    {
     "file_id": "1zEpR87QdgMCJSKRKwu47q8ViJTEv7HIJ",
     "timestamp": 1591999465349
    }
   ]
  },
  "kernelspec": {
   "display_name": "Python 3",
   "language": "python",
   "name": "python3"
  },
  "language_info": {
   "codemirror_mode": {
    "name": "ipython",
    "version": 3
   },
   "file_extension": ".py",
   "mimetype": "text/x-python",
   "name": "python",
   "nbconvert_exporter": "python",
   "pygments_lexer": "ipython3",
   "version": "3.8.3"
  }
 },
 "nbformat": 4,
 "nbformat_minor": 4
}
