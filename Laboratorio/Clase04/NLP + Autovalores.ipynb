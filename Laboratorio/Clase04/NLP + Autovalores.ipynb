{
 "cells": [
  {
   "cell_type": "markdown",
   "metadata": {
    "colab_type": "text",
    "id": "aCKND09zxavl"
   },
   "source": [
    "# Análisis de Sentimiento con KNN y PCA\n",
    "\n",
    "Vamos a usar el dataset de IMDB de [Maas et al(2011)](\n",
    "https://ai.stanford.edu/~amaas/data/sentiment/) \n"
   ]
  },
  {
   "cell_type": "code",
   "execution_count": 1,
   "metadata": {
    "colab": {
     "base_uri": "https://localhost:8080/",
     "height": 330
    },
    "colab_type": "code",
    "executionInfo": {
     "elapsed": 8893,
     "status": "ok",
     "timestamp": 1590791841077,
     "user": {
      "displayName": "FisicArg",
      "photoUrl": "https://lh3.googleusercontent.com/a-/AOh14Gi8oL9AHRVgWy_wv7yIDWMlz8YSlHMEnPv4flbqwg=s64",
      "userId": "13342080252696210500"
     },
     "user_tz": 180
    },
    "id": "XYmw-hoew6ev",
    "outputId": "0f3d1208-49c5-405b-d6a9-e3d4594f213e"
   },
   "outputs": [
    {
     "name": "stdout",
     "output_type": "stream",
     "text": [
      "--2020-05-29 22:37:15--  https://github.com/finiteautomata/imdb-dataset/raw/master/imdb_dataset.csv.zip\n",
      "Resolving github.com (github.com)... 140.82.114.4\n",
      "Connecting to github.com (github.com)|140.82.114.4|:443... connected.\n",
      "HTTP request sent, awaiting response... 302 Found\n",
      "Location: https://raw.githubusercontent.com/finiteautomata/imdb-dataset/master/imdb_dataset.csv.zip [following]\n",
      "--2020-05-29 22:37:15--  https://raw.githubusercontent.com/finiteautomata/imdb-dataset/master/imdb_dataset.csv.zip\n",
      "Resolving raw.githubusercontent.com (raw.githubusercontent.com)... 151.101.0.133, 151.101.64.133, 151.101.128.133, ...\n",
      "Connecting to raw.githubusercontent.com (raw.githubusercontent.com)|151.101.0.133|:443... connected.\n",
      "HTTP request sent, awaiting response... 200 OK\n",
      "Length: 26962657 (26M) [application/zip]\n",
      "Saving to: ‘imdb_dataset.csv.zip’\n",
      "\n",
      "imdb_dataset.csv.zi 100%[===================>]  25.71M  42.4MB/s    in 0.6s    \n",
      "\n",
      "2020-05-29 22:37:16 (42.4 MB/s) - ‘imdb_dataset.csv.zip’ saved [26962657/26962657]\n",
      "\n",
      "Archive:  imdb_dataset.csv.zip\n",
      "  inflating: IMDB Dataset.csv        \n"
     ]
    }
   ],
   "source": [
    "!wget https://github.com/finiteautomata/imdb-dataset/raw/master/imdb_dataset.csv.zip\n",
    "!unzip imdb_dataset.csv.zip"
   ]
  },
  {
   "cell_type": "code",
   "execution_count": 2,
   "metadata": {
    "colab": {
     "base_uri": "https://localhost:8080/",
     "height": 34
    },
    "colab_type": "code",
    "executionInfo": {
     "elapsed": 10125,
     "status": "ok",
     "timestamp": 1590791842330,
     "user": {
      "displayName": "FisicArg",
      "photoUrl": "https://lh3.googleusercontent.com/a-/AOh14Gi8oL9AHRVgWy_wv7yIDWMlz8YSlHMEnPv4flbqwg=s64",
      "userId": "13342080252696210500"
     },
     "user_tz": 180
    },
    "id": "x77gb_NyxYho",
    "outputId": "af8d943d-6030-4dcc-f5b6-6b2e2f3a45a3"
   },
   "outputs": [
    {
     "name": "stdout",
     "output_type": "stream",
     "text": [
      "Cantidad de documentos: 50000\n"
     ]
    }
   ],
   "source": [
    "import pandas as pd \n",
    "\n",
    "df = pd.read_csv(\"IMDB Dataset.csv\")\n",
    "\n",
    "\n",
    "print(\"Cantidad de documentos: {}\".format(df.shape[0]))"
   ]
  },
  {
   "cell_type": "code",
   "execution_count": 3,
   "metadata": {
    "colab": {
     "base_uri": "https://localhost:8080/",
     "height": 143
    },
    "colab_type": "code",
    "executionInfo": {
     "elapsed": 10116,
     "status": "ok",
     "timestamp": 1590791842333,
     "user": {
      "displayName": "FisicArg",
      "photoUrl": "https://lh3.googleusercontent.com/a-/AOh14Gi8oL9AHRVgWy_wv7yIDWMlz8YSlHMEnPv4flbqwg=s64",
      "userId": "13342080252696210500"
     },
     "user_tz": 180
    },
    "id": "YubaV3bd2Jd8",
    "outputId": "09cbfa0d-de3b-4e6c-fa16-df0485158be6"
   },
   "outputs": [
    {
     "data": {
      "text/html": [
       "<div>\n",
       "<style scoped>\n",
       "    .dataframe tbody tr th:only-of-type {\n",
       "        vertical-align: middle;\n",
       "    }\n",
       "\n",
       "    .dataframe tbody tr th {\n",
       "        vertical-align: top;\n",
       "    }\n",
       "\n",
       "    .dataframe thead th {\n",
       "        text-align: right;\n",
       "    }\n",
       "</style>\n",
       "<table border=\"1\" class=\"dataframe\">\n",
       "  <thead>\n",
       "    <tr style=\"text-align: right;\">\n",
       "      <th></th>\n",
       "      <th>review</th>\n",
       "      <th>sentiment</th>\n",
       "    </tr>\n",
       "  </thead>\n",
       "  <tbody>\n",
       "    <tr>\n",
       "      <th>0</th>\n",
       "      <td>One of the other reviewers has mentioned that after watching just 1 Oz episode you'll be hooked. They are right, as this is exactly what happened with me.&lt;br /&gt;&lt;br /&gt;The first thing that struck me...</td>\n",
       "      <td>positive</td>\n",
       "    </tr>\n",
       "    <tr>\n",
       "      <th>1</th>\n",
       "      <td>A wonderful little production. &lt;br /&gt;&lt;br /&gt;The filming technique is very unassuming- very old-time-BBC fashion and gives a comforting, and sometimes discomforting, sense of realism to the entire p...</td>\n",
       "      <td>positive</td>\n",
       "    </tr>\n",
       "    <tr>\n",
       "      <th>2</th>\n",
       "      <td>I thought this was a wonderful way to spend time on a too hot summer weekend, sitting in the air conditioned theater and watching a light-hearted comedy. The plot is simplistic, but the dialogue i...</td>\n",
       "      <td>positive</td>\n",
       "    </tr>\n",
       "  </tbody>\n",
       "</table>\n",
       "</div>"
      ],
      "text/plain": [
       "                                                                                                                                                                                                    review sentiment\n",
       "0  One of the other reviewers has mentioned that after watching just 1 Oz episode you'll be hooked. They are right, as this is exactly what happened with me.<br /><br />The first thing that struck me...  positive\n",
       "1  A wonderful little production. <br /><br />The filming technique is very unassuming- very old-time-BBC fashion and gives a comforting, and sometimes discomforting, sense of realism to the entire p...  positive\n",
       "2  I thought this was a wonderful way to spend time on a too hot summer weekend, sitting in the air conditioned theater and watching a light-hearted comedy. The plot is simplistic, but the dialogue i...  positive"
      ]
     },
     "execution_count": 3,
     "metadata": {
      "tags": []
     },
     "output_type": "execute_result"
    }
   ],
   "source": [
    "pd.options.display.max_colwidth = 200\n",
    "\n",
    "df[:3]"
   ]
  },
  {
   "cell_type": "markdown",
   "metadata": {
    "colab_type": "text",
    "id": "zdpK2UXK2tZX"
   },
   "source": [
    "Lo mezclamos para que no esté ordenado"
   ]
  },
  {
   "cell_type": "code",
   "execution_count": 66,
   "metadata": {
    "colab": {
     "base_uri": "https://localhost:8080/",
     "height": 363
    },
    "colab_type": "code",
    "executionInfo": {
     "elapsed": 1418,
     "status": "ok",
     "timestamp": 1590798974436,
     "user": {
      "displayName": "FisicArg",
      "photoUrl": "https://lh3.googleusercontent.com/a-/AOh14Gi8oL9AHRVgWy_wv7yIDWMlz8YSlHMEnPv4flbqwg=s64",
      "userId": "13342080252696210500"
     },
     "user_tz": 180
    },
    "id": "J7CNSqdF221f",
    "outputId": "279fbdfd-174f-4453-929b-bc93f89f83ab"
   },
   "outputs": [
    {
     "data": {
      "text/html": [
       "<div>\n",
       "<style scoped>\n",
       "    .dataframe tbody tr th:only-of-type {\n",
       "        vertical-align: middle;\n",
       "    }\n",
       "\n",
       "    .dataframe tbody tr th {\n",
       "        vertical-align: top;\n",
       "    }\n",
       "\n",
       "    .dataframe thead th {\n",
       "        text-align: right;\n",
       "    }\n",
       "</style>\n",
       "<table border=\"1\" class=\"dataframe\">\n",
       "  <thead>\n",
       "    <tr style=\"text-align: right;\">\n",
       "      <th></th>\n",
       "      <th>review</th>\n",
       "      <th>sentiment</th>\n",
       "    </tr>\n",
       "  </thead>\n",
       "  <tbody>\n",
       "    <tr>\n",
       "      <th>17393</th>\n",
       "      <td>This 1977 cult movie has two crazed lesbians (Sandra Locke &amp; Colleen Camp) appearing at the home of wealthy socialite Doctor George Manning (Seymour Cassel), in hope of help in locating a residenc...</td>\n",
       "      <td>negative</td>\n",
       "    </tr>\n",
       "    <tr>\n",
       "      <th>10900</th>\n",
       "      <td>The Reader is an exceptionally well done and very sweet short. Every element of the piece assists in eliciting a pure emotional response to the script. Well acted, directed, shot and written. I wa...</td>\n",
       "      <td>positive</td>\n",
       "    </tr>\n",
       "    <tr>\n",
       "      <th>32259</th>\n",
       "      <td>*** Spoilers*&lt;br /&gt;&lt;br /&gt;My dad had taped this movie for me when I was 3. By age 5, I had watched it over 400 times. I just watched it and watched it. And I still do today! It has a grim storyline...</td>\n",
       "      <td>positive</td>\n",
       "    </tr>\n",
       "    <tr>\n",
       "      <th>47945</th>\n",
       "      <td>Inane, awful farce basically about a young man who refuses to conform or better uses non-conformity to attain his objectives-fool his parents into thinking that he is attending a college. Truth is...</td>\n",
       "      <td>negative</td>\n",
       "    </tr>\n",
       "    <tr>\n",
       "      <th>27618</th>\n",
       "      <td>I really liked this movie, it totally reminds me of my high school days. The soundtrack is awesome. I am a huge nic cage fan and this is my favorite movie that he is in. I love the storyline, it i...</td>\n",
       "      <td>positive</td>\n",
       "    </tr>\n",
       "    <tr>\n",
       "      <th>35974</th>\n",
       "      <td>my friend and i rented this one a few nights ago. and, i must say, this is the single best movie i have ever seen. i mean, woah! \"dude, we better get some brew before this joint closes\" and \"dude,...</td>\n",
       "      <td>negative</td>\n",
       "    </tr>\n",
       "    <tr>\n",
       "      <th>32834</th>\n",
       "      <td>if filming is about vision and real life this movie is quite perfect: NUOVOMONDO talks about immigration in the USA from Italy the beginning of '900, but it speak also for now, when emigration/imm...</td>\n",
       "      <td>positive</td>\n",
       "    </tr>\n",
       "    <tr>\n",
       "      <th>6132</th>\n",
       "      <td>I couldn't wait to see this movie. About half way through the movie, I couldn't wait for it to end. All of the (white) actors were delivering their lines like Woody Allen had just said, \"Say it li...</td>\n",
       "      <td>negative</td>\n",
       "    </tr>\n",
       "    <tr>\n",
       "      <th>2966</th>\n",
       "      <td>Why?!! This was an insipid, uninspired and embarrassing film. The embarrassment comes from being from the city where they made it...Pittsburgh PA! Why did they let these people do such a BAAAAAD m...</td>\n",
       "      <td>negative</td>\n",
       "    </tr>\n",
       "    <tr>\n",
       "      <th>20460</th>\n",
       "      <td>I have heard a lot about this film, with people writing me telling me I should see it, as I am a fan of extremely bloody, gory movies. I got my hands on it almost right away, but one thing or anot...</td>\n",
       "      <td>negative</td>\n",
       "    </tr>\n",
       "  </tbody>\n",
       "</table>\n",
       "</div>"
      ],
      "text/plain": [
       "                                                                                                                                                                                                        review sentiment\n",
       "17393  This 1977 cult movie has two crazed lesbians (Sandra Locke & Colleen Camp) appearing at the home of wealthy socialite Doctor George Manning (Seymour Cassel), in hope of help in locating a residenc...  negative\n",
       "10900  The Reader is an exceptionally well done and very sweet short. Every element of the piece assists in eliciting a pure emotional response to the script. Well acted, directed, shot and written. I wa...  positive\n",
       "32259  *** Spoilers*<br /><br />My dad had taped this movie for me when I was 3. By age 5, I had watched it over 400 times. I just watched it and watched it. And I still do today! It has a grim storyline...  positive\n",
       "47945  Inane, awful farce basically about a young man who refuses to conform or better uses non-conformity to attain his objectives-fool his parents into thinking that he is attending a college. Truth is...  negative\n",
       "27618  I really liked this movie, it totally reminds me of my high school days. The soundtrack is awesome. I am a huge nic cage fan and this is my favorite movie that he is in. I love the storyline, it i...  positive\n",
       "35974  my friend and i rented this one a few nights ago. and, i must say, this is the single best movie i have ever seen. i mean, woah! \"dude, we better get some brew before this joint closes\" and \"dude,...  negative\n",
       "32834  if filming is about vision and real life this movie is quite perfect: NUOVOMONDO talks about immigration in the USA from Italy the beginning of '900, but it speak also for now, when emigration/imm...  positive\n",
       "6132   I couldn't wait to see this movie. About half way through the movie, I couldn't wait for it to end. All of the (white) actors were delivering their lines like Woody Allen had just said, \"Say it li...  negative\n",
       "2966   Why?!! This was an insipid, uninspired and embarrassing film. The embarrassment comes from being from the city where they made it...Pittsburgh PA! Why did they let these people do such a BAAAAAD m...  negative\n",
       "20460  I have heard a lot about this film, with people writing me telling me I should see it, as I am a fan of extremely bloody, gory movies. I got my hands on it almost right away, but one thing or anot...  negative"
      ]
     },
     "execution_count": 66,
     "metadata": {
      "tags": []
     },
     "output_type": "execute_result"
    }
   ],
   "source": [
    "# Esto pide un sample, le pedimos una muestra de todo el df\n",
    "df = df.sample(frac=1)\n",
    "\n",
    "df[:10]"
   ]
  },
  {
   "cell_type": "markdown",
   "metadata": {
    "colab_type": "text",
    "id": "jz3AcySp25VD"
   },
   "source": [
    "## Train y Test\n",
    "\n",
    "Nos vamos a quedar con una fracción de los datos para train y otra para test"
   ]
  },
  {
   "cell_type": "code",
   "execution_count": 67,
   "metadata": {
    "colab": {
     "base_uri": "https://localhost:8080/",
     "height": 34
    },
    "colab_type": "code",
    "executionInfo": {
     "elapsed": 606,
     "status": "ok",
     "timestamp": 1590798976686,
     "user": {
      "displayName": "FisicArg",
      "photoUrl": "https://lh3.googleusercontent.com/a-/AOh14Gi8oL9AHRVgWy_wv7yIDWMlz8YSlHMEnPv4flbqwg=s64",
      "userId": "13342080252696210500"
     },
     "user_tz": 180
    },
    "id": "JhJYdWnb3Lic",
    "outputId": "d14cd861-9188-4e25-e90d-c5b54ca43311"
   },
   "outputs": [
    {
     "name": "stdout",
     "output_type": "stream",
     "text": [
      "Class balance : 0.4971 pos 0.5029 neg\n"
     ]
    }
   ],
   "source": [
    "import sklearn\n",
    "\n",
    "df_train = df[:10000]\n",
    "df_test = df[10000:13000]\n",
    "\n",
    "text_train, text_test = df_train[\"review\"], df_test[\"review\"]\n",
    "label_train, label_test = df_train[\"sentiment\"], df_test[\"sentiment\"]\n",
    "\n",
    "print(\"Class balance : {} pos {} neg\".format(\n",
    "    (label_train == 'positive').sum() / label_train.shape[0], \n",
    "    (label_train == 'negative').sum() / label_train.shape[0]\n",
    "))"
   ]
  },
  {
   "cell_type": "markdown",
   "metadata": {
    "colab_type": "text",
    "id": "XMhtW5pI3yE8"
   },
   "source": [
    "Está más o menos parejo. Usemos accuracy (#cantidad de aciertos / #cantidad de ensayos) como métrica"
   ]
  },
  {
   "cell_type": "markdown",
   "metadata": {
    "colab_type": "text",
    "id": "0-Kfq3Lf4K-e"
   },
   "source": [
    "## Convertir a bag of words\n",
    "\n",
    "Veamos cómo funciona CountVectorizer\n",
    "\n",
    "La idea general es que CountVectorizer convierte un conjunto de texto en el modelo de bolsa de palabras (bag of words), donde cada texto se representa como un vector de $\\mathbb{R}^V$, donde $V$ es el vocabulario elegido."
   ]
  },
  {
   "cell_type": "code",
   "execution_count": null,
   "metadata": {
    "colab": {},
    "colab_type": "code",
    "id": "04SLlE4c4cz_"
   },
   "outputs": [],
   "source": [
    "from sklearn.feature_extraction.text import CountVectorizer\n",
    "\n",
    "textos = [\n",
    "    \"bolsa de palabras\",\n",
    "    \"bolsa es una palabra\",\n",
    "    \"palabra no es una bolsa\",\n",
    "]\n",
    "\n",
    "vect = CountVectorizer()"
   ]
  },
  {
   "cell_type": "markdown",
   "metadata": {
    "colab_type": "text",
    "id": "nzmjNAYz9hA4"
   },
   "source": [
    "Lo entramos a estos textos"
   ]
  },
  {
   "cell_type": "code",
   "execution_count": 7,
   "metadata": {
    "colab": {
     "base_uri": "https://localhost:8080/",
     "height": 121
    },
    "colab_type": "code",
    "executionInfo": {
     "elapsed": 10076,
     "status": "ok",
     "timestamp": 1590791842355,
     "user": {
      "displayName": "FisicArg",
      "photoUrl": "https://lh3.googleusercontent.com/a-/AOh14Gi8oL9AHRVgWy_wv7yIDWMlz8YSlHMEnPv4flbqwg=s64",
      "userId": "13342080252696210500"
     },
     "user_tz": 180
    },
    "id": "eFrgWAf_4oId",
    "outputId": "3143d09c-6402-4f96-f0fd-ce2357a1d31c"
   },
   "outputs": [
    {
     "data": {
      "text/plain": [
       "CountVectorizer(analyzer='word', binary=False, decode_error='strict',\n",
       "                dtype=<class 'numpy.int64'>, encoding='utf-8', input='content',\n",
       "                lowercase=True, max_df=1.0, max_features=None, min_df=1,\n",
       "                ngram_range=(1, 1), preprocessor=None, stop_words=None,\n",
       "                strip_accents=None, token_pattern='(?u)\\\\b\\\\w\\\\w+\\\\b',\n",
       "                tokenizer=None, vocabulary=None)"
      ]
     },
     "execution_count": 7,
     "metadata": {
      "tags": []
     },
     "output_type": "execute_result"
    }
   ],
   "source": [
    "vect.fit(textos)"
   ]
  },
  {
   "cell_type": "code",
   "execution_count": 8,
   "metadata": {
    "colab": {
     "base_uri": "https://localhost:8080/",
     "height": 34
    },
    "colab_type": "code",
    "executionInfo": {
     "elapsed": 10059,
     "status": "ok",
     "timestamp": 1590791842358,
     "user": {
      "displayName": "FisicArg",
      "photoUrl": "https://lh3.googleusercontent.com/a-/AOh14Gi8oL9AHRVgWy_wv7yIDWMlz8YSlHMEnPv4flbqwg=s64",
      "userId": "13342080252696210500"
     },
     "user_tz": 180
    },
    "id": "zkSsZNW04oo9",
    "outputId": "15493dc6-1260-4f83-8754-0b37a8daf542"
   },
   "outputs": [
    {
     "data": {
      "text/plain": [
       "{'bolsa': 0, 'de': 1, 'es': 2, 'no': 3, 'palabra': 4, 'palabras': 5, 'una': 6}"
      ]
     },
     "execution_count": 8,
     "metadata": {
      "tags": []
     },
     "output_type": "execute_result"
    }
   ],
   "source": [
    " vect.vocabulary_"
   ]
  },
  {
   "cell_type": "code",
   "execution_count": 9,
   "metadata": {
    "colab": {
     "base_uri": "https://localhost:8080/",
     "height": 52
    },
    "colab_type": "code",
    "executionInfo": {
     "elapsed": 10023,
     "status": "ok",
     "timestamp": 1590791842363,
     "user": {
      "displayName": "FisicArg",
      "photoUrl": "https://lh3.googleusercontent.com/a-/AOh14Gi8oL9AHRVgWy_wv7yIDWMlz8YSlHMEnPv4flbqwg=s64",
      "userId": "13342080252696210500"
     },
     "user_tz": 180
    },
    "id": "8decO5qu4rNd",
    "outputId": "1586ca1c-13b7-4598-c8d9-dbc91968bd66"
   },
   "outputs": [
    {
     "data": {
      "text/plain": [
       "<3x7 sparse matrix of type '<class 'numpy.int64'>'\n",
       "\twith 12 stored elements in Compressed Sparse Row format>"
      ]
     },
     "execution_count": 9,
     "metadata": {
      "tags": []
     },
     "output_type": "execute_result"
    }
   ],
   "source": [
    "mat = vect.transform(textos)\n",
    "\n",
    "mat"
   ]
  },
  {
   "cell_type": "markdown",
   "metadata": {
    "colab_type": "text",
    "id": "OJ8i3MLq4uUU"
   },
   "source": [
    "Es una matriz \"rala\" (ESPARSA NO ES UNA PALABRA DE ESPAÑOL)"
   ]
  },
  {
   "cell_type": "code",
   "execution_count": 10,
   "metadata": {
    "colab": {
     "base_uri": "https://localhost:8080/",
     "height": 69
    },
    "colab_type": "code",
    "executionInfo": {
     "elapsed": 10007,
     "status": "ok",
     "timestamp": 1590791842367,
     "user": {
      "displayName": "FisicArg",
      "photoUrl": "https://lh3.googleusercontent.com/a-/AOh14Gi8oL9AHRVgWy_wv7yIDWMlz8YSlHMEnPv4flbqwg=s64",
      "userId": "13342080252696210500"
     },
     "user_tz": 180
    },
    "id": "NKOkmVgE4zWz",
    "outputId": "5a3e646e-e5fe-4c94-dcc3-af1740a9d759"
   },
   "outputs": [
    {
     "data": {
      "text/plain": [
       "matrix([[1, 1, 0, 0, 0, 1, 0],\n",
       "        [1, 0, 1, 0, 1, 0, 1],\n",
       "        [1, 0, 1, 1, 1, 0, 1]])"
      ]
     },
     "execution_count": 10,
     "metadata": {
      "tags": []
     },
     "output_type": "execute_result"
    }
   ],
   "source": [
    "mat = mat.todense()\n",
    "\n",
    "mat"
   ]
  },
  {
   "cell_type": "markdown",
   "metadata": {
    "colab_type": "text",
    "id": "1PQdgcLJ41Mx"
   },
   "source": [
    "Ahora, apliquemos esto a nuestros textos...\n",
    "\n",
    "No nos vamos a quedar con todas las palabras:\n",
    "\n",
    "- Sacar palabras muy frecuentes\n",
    "- Sacar palabras que aparecen muy pocas veces \n",
    "\n",
    "¿Por qué sirve esto?"
   ]
  },
  {
   "cell_type": "code",
   "execution_count": 11,
   "metadata": {
    "colab": {
     "base_uri": "https://localhost:8080/",
     "height": 34
    },
    "colab_type": "code",
    "executionInfo": {
     "elapsed": 12303,
     "status": "ok",
     "timestamp": 1590791844689,
     "user": {
      "displayName": "FisicArg",
      "photoUrl": "https://lh3.googleusercontent.com/a-/AOh14Gi8oL9AHRVgWy_wv7yIDWMlz8YSlHMEnPv4flbqwg=s64",
      "userId": "13342080252696210500"
     },
     "user_tz": 180
    },
    "id": "qYF7LwOd49vz",
    "outputId": "4c6f869f-ac1f-459a-f7be-d0c5e8e82c5c"
   },
   "outputs": [
    {
     "data": {
      "text/plain": [
       "52296"
      ]
     },
     "execution_count": 11,
     "metadata": {
      "tags": []
     },
     "output_type": "execute_result"
    }
   ],
   "source": [
    "vect = CountVectorizer()\n",
    "\n",
    "vect.fit(text_train)\n",
    "\n",
    "len(vect.vocabulary_)"
   ]
  },
  {
   "cell_type": "markdown",
   "metadata": {
    "colab_type": "text",
    "id": "GLghxs6b8LOE"
   },
   "source": [
    "Esto es un montón. Reduzcámoslo un poco"
   ]
  },
  {
   "cell_type": "code",
   "execution_count": 12,
   "metadata": {
    "colab": {
     "base_uri": "https://localhost:8080/",
     "height": 34
    },
    "colab_type": "code",
    "executionInfo": {
     "elapsed": 14138,
     "status": "ok",
     "timestamp": 1590791846548,
     "user": {
      "displayName": "FisicArg",
      "photoUrl": "https://lh3.googleusercontent.com/a-/AOh14Gi8oL9AHRVgWy_wv7yIDWMlz8YSlHMEnPv4flbqwg=s64",
      "userId": "13342080252696210500"
     },
     "user_tz": 180
    },
    "id": "2ch4SfSY5NdX",
    "outputId": "bac8c763-10d3-4cad-f50e-3550d0890615"
   },
   "outputs": [
    {
     "data": {
      "text/plain": [
       "5000"
      ]
     },
     "execution_count": 12,
     "metadata": {
      "tags": []
     },
     "output_type": "execute_result"
    }
   ],
   "source": [
    "vect = CountVectorizer(min_df=3, max_features=5000)\n",
    "\n",
    "vect.fit(text_train)\n",
    "\n",
    "len(vect.vocabulary_)"
   ]
  },
  {
   "cell_type": "code",
   "execution_count": null,
   "metadata": {
    "colab": {},
    "colab_type": "code",
    "id": "FiYawk8Y5gs0"
   },
   "outputs": [],
   "source": [
    "X_train = vect.transform(text_train)\n",
    "X_test = vect.transform(text_test)\n",
    "\n",
    "y_train = label_train# == 'positive' # Convertimos a vectores booleanos\n",
    "y_test = label_test# == \"positive\""
   ]
  },
  {
   "cell_type": "code",
   "execution_count": 14,
   "metadata": {
    "colab": {
     "base_uri": "https://localhost:8080/",
     "height": 69
    },
    "colab_type": "code",
    "executionInfo": {
     "elapsed": 16331,
     "status": "ok",
     "timestamp": 1590791848763,
     "user": {
      "displayName": "FisicArg",
      "photoUrl": "https://lh3.googleusercontent.com/a-/AOh14Gi8oL9AHRVgWy_wv7yIDWMlz8YSlHMEnPv4flbqwg=s64",
      "userId": "13342080252696210500"
     },
     "user_tz": 180
    },
    "id": "jqBlZHPH55iO",
    "outputId": "e724bbf9-d213-4668-8132-72ae79850155"
   },
   "outputs": [
    {
     "data": {
      "text/plain": [
       "KNeighborsClassifier(algorithm='auto', leaf_size=30, metric='minkowski',\n",
       "                     metric_params=None, n_jobs=None, n_neighbors=50, p=2,\n",
       "                     weights='uniform')"
      ]
     },
     "execution_count": 14,
     "metadata": {
      "tags": []
     },
     "output_type": "execute_result"
    }
   ],
   "source": [
    "from sklearn.neighbors import KNeighborsClassifier\n",
    "\n",
    "clf = KNeighborsClassifier(50)\n",
    "\n",
    "clf.fit(X_train, y_train)"
   ]
  },
  {
   "cell_type": "code",
   "execution_count": 15,
   "metadata": {
    "colab": {
     "base_uri": "https://localhost:8080/",
     "height": 69
    },
    "colab_type": "code",
    "executionInfo": {
     "elapsed": 21252,
     "status": "ok",
     "timestamp": 1590791853697,
     "user": {
      "displayName": "FisicArg",
      "photoUrl": "https://lh3.googleusercontent.com/a-/AOh14Gi8oL9AHRVgWy_wv7yIDWMlz8YSlHMEnPv4flbqwg=s64",
      "userId": "13342080252696210500"
     },
     "user_tz": 180
    },
    "id": "RjzpXkva6Am_",
    "outputId": "dfff3baa-87f0-4e2e-924b-ccb6b3f4bf4b"
   },
   "outputs": [
    {
     "name": "stdout",
     "output_type": "stream",
     "text": [
      "Accuracy: 0.6663333333333333\n",
      "CPU times: user 3.7 s, sys: 362 ms, total: 4.07 s\n",
      "Wall time: 4.09 s\n"
     ]
    }
   ],
   "source": [
    "%%time\n",
    "from sklearn.metrics import accuracy_score\n",
    "y_pred = clf.predict(X_test)\n",
    "\n",
    "acc = accuracy_score(y_test, y_pred)\n",
    "print(\"Accuracy: {}\".format(acc))"
   ]
  },
  {
   "cell_type": "markdown",
   "metadata": {
    "colab_type": "text",
    "id": "E4u2V4-S6EQw"
   },
   "source": [
    "¿Podremos mejorarlo...?"
   ]
  },
  {
   "cell_type": "markdown",
   "metadata": {
    "colab_type": "text",
    "id": "PpSSXe9B_xvA"
   },
   "source": [
    "## Metodo de la potencia\n",
    "\n",
    "Implementar las siguientes funciones (`power_iteration` y `eig`)"
   ]
  },
  {
   "cell_type": "code",
   "execution_count": null,
   "metadata": {
    "colab": {},
    "colab_type": "code",
    "id": "z4lRE4Kn_zdZ"
   },
   "outputs": [],
   "source": [
    "import numpy as np\n",
    "\n",
    "def power_iteration(A, niter=10000, eps=1e-6):\n",
    "    v_new = np.random.rand(A.shape[0])\n",
    "    v = np.zeros(A.shape[0])\n",
    "    \n",
    "    i = 0\n",
    "    while i < niter and not np.allclose(v_new, v, atol=eps):\n",
    "      v = v_new\n",
    "      v_new = A @ v_new\n",
    "      v_new = v_new / np.linalg.norm(v_new)\n",
    "      i += 1\n",
    "\n",
    "    a = (v @ A @ v.T) / np.linalg.norm(v)\n",
    "    \n",
    "    return a, v\n"
   ]
  },
  {
   "cell_type": "code",
   "execution_count": 63,
   "metadata": {
    "colab": {
     "base_uri": "https://localhost:8080/",
     "height": 52
    },
    "colab_type": "code",
    "executionInfo": {
     "elapsed": 586,
     "status": "ok",
     "timestamp": 1590796004214,
     "user": {
      "displayName": "FisicArg",
      "photoUrl": "https://lh3.googleusercontent.com/a-/AOh14Gi8oL9AHRVgWy_wv7yIDWMlz8YSlHMEnPv4flbqwg=s64",
      "userId": "13342080252696210500"
     },
     "user_tz": 180
    },
    "id": "xGhKPPcm_5qB",
    "outputId": "86aafdf1-d557-4199-d896-132d19b8922f"
   },
   "outputs": [
    {
     "data": {
      "text/plain": [
       "(4.999999998297475,\n",
       " array([-0.59998349,  0.39997524,  0.4000165 ,  0.40001651,  0.40001651]))"
      ]
     },
     "execution_count": 63,
     "metadata": {
      "tags": []
     },
     "output_type": "execute_result"
    }
   ],
   "source": [
    "\n",
    "D = np.diag([5.0, 4.0, 3.0, 2.0, 1.0])\n",
    "\n",
    "v = np.ones((D.shape[0], 1))\n",
    "\n",
    "v = v / np.linalg.norm(v)\n",
    "\n",
    "# Matriz de Householder\n",
    "B = np.eye(D.shape[0]) - 2 * (v @ v.T)\n",
    "\n",
    "# Matriz ya diagonalizada\n",
    "M = B.T @ D @ B\n",
    "\n",
    "power_iteration(M)"
   ]
  },
  {
   "cell_type": "code",
   "execution_count": null,
   "metadata": {
    "colab": {},
    "colab_type": "code",
    "id": "KWYuBwdtB9hA"
   },
   "outputs": [],
   "source": [
    "def eig(A, num=2, niter=10000, eps=1e-6):\n",
    "    \"\"\"\n",
    "    Calculamos num autovalores y autovectores usando método de la potencia+deflación\n",
    "    \"\"\"\n",
    "    A = A.copy()\n",
    "    eigenvalues = []\n",
    "    eigenvectors = np.zeros((A.shape[0], num))\n",
    "    for i in range(num):\n",
    "        eigenvalue, eigenvector = power_iteration(A, niter, eps)\n",
    "        eigenvalues.append(eigenvalue)\n",
    "        eigenvectors[i, :] = eigenvector\n",
    "        A = A - eigenvalue * np.outer(eigenvector, eigenvector)\n",
    "    \n",
    "    return np.array(eigenvalues), eigenvectors\n"
   ]
  },
  {
   "cell_type": "code",
   "execution_count": 65,
   "metadata": {
    "colab": {
     "base_uri": "https://localhost:8080/",
     "height": 69
    },
    "colab_type": "code",
    "executionInfo": {
     "elapsed": 1548,
     "status": "ok",
     "timestamp": 1590796009215,
     "user": {
      "displayName": "FisicArg",
      "photoUrl": "https://lh3.googleusercontent.com/a-/AOh14Gi8oL9AHRVgWy_wv7yIDWMlz8YSlHMEnPv4flbqwg=s64",
      "userId": "13342080252696210500"
     },
     "user_tz": 180
    },
    "id": "pGYFi1v3C1Ne",
    "outputId": "df62356a-81eb-4471-c61e-5e15aee04565"
   },
   "outputs": [
    {
     "name": "stdout",
     "output_type": "stream",
     "text": [
      "[-2. -1.]\n",
      "[[ 0.4472136  -0.89442719]\n",
      " [ 0.14142136 -0.98994949]]\n"
     ]
    }
   ],
   "source": [
    "A = np.array([\n",
    "              [0, 1],\n",
    "              [-2, -3]\n",
    "])\n",
    "\n",
    "vals, vectors = eig(A)\n",
    "print(vals)\n",
    "print(vectors)"
   ]
  },
  {
   "cell_type": "code",
   "execution_count": null,
   "metadata": {
    "colab": {},
    "colab_type": "code",
    "id": "VM5Ls3vqrUwi"
   },
   "outputs": [],
   "source": []
  }
 ],
 "metadata": {
  "colab": {
   "name": "Copy of NLP + Autovalores",
   "provenance": [
    {
     "file_id": "1Iptlkxd9fuvqpd5IbfaDNcY_TJkpGRMU",
     "timestamp": 1590790994362
    }
   ]
  },
  "kernelspec": {
   "display_name": "Python 3",
   "language": "python",
   "name": "python3"
  },
  "language_info": {
   "codemirror_mode": {
    "name": "ipython",
    "version": 3
   },
   "file_extension": ".py",
   "mimetype": "text/x-python",
   "name": "python",
   "nbconvert_exporter": "python",
   "pygments_lexer": "ipython3",
   "version": "3.8.3"
  }
 },
 "nbformat": 4,
 "nbformat_minor": 2
}
