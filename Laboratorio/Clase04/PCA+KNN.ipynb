{
 "cells": [
  {
   "cell_type": "markdown",
   "metadata": {
    "colab_type": "text",
    "id": "NUzhPc_WIGY5"
   },
   "source": [
    "# Análisis de Sentimiento - Parte 2 (PCA)\n",
    "\n",
    "\n",
    "Primero, bajemos los datos"
   ]
  },
  {
   "cell_type": "code",
   "execution_count": 1,
   "metadata": {
    "colab": {
     "base_uri": "https://localhost:8080/",
     "height": 330
    },
    "colab_type": "code",
    "executionInfo": {
     "elapsed": 6982,
     "status": "ok",
     "timestamp": 1590799093211,
     "user": {
      "displayName": "FisicArg",
      "photoUrl": "https://lh3.googleusercontent.com/a-/AOh14Gi8oL9AHRVgWy_wv7yIDWMlz8YSlHMEnPv4flbqwg=s64",
      "userId": "13342080252696210500"
     },
     "user_tz": 180
    },
    "id": "9C1u3Ynu_zkF",
    "outputId": "f2372006-7347-4e26-901f-79f69026a305"
   },
   "outputs": [
    {
     "name": "stdout",
     "output_type": "stream",
     "text": [
      "--2020-05-30 00:38:08--  https://github.com/finiteautomata/imdb-dataset/raw/master/imdb_dataset.csv.zip\n",
      "Resolving github.com (github.com)... 140.82.113.3\n",
      "Connecting to github.com (github.com)|140.82.113.3|:443... connected.\n",
      "HTTP request sent, awaiting response... 302 Found\n",
      "Location: https://raw.githubusercontent.com/finiteautomata/imdb-dataset/master/imdb_dataset.csv.zip [following]\n",
      "--2020-05-30 00:38:08--  https://raw.githubusercontent.com/finiteautomata/imdb-dataset/master/imdb_dataset.csv.zip\n",
      "Resolving raw.githubusercontent.com (raw.githubusercontent.com)... 151.101.0.133, 151.101.64.133, 151.101.128.133, ...\n",
      "Connecting to raw.githubusercontent.com (raw.githubusercontent.com)|151.101.0.133|:443... connected.\n",
      "HTTP request sent, awaiting response... 200 OK\n",
      "Length: 26962657 (26M) [application/zip]\n",
      "Saving to: ‘imdb_dataset.csv.zip’\n",
      "\n",
      "imdb_dataset.csv.zi 100%[===================>]  25.71M  42.7MB/s    in 0.6s    \n",
      "\n",
      "2020-05-30 00:38:09 (42.7 MB/s) - ‘imdb_dataset.csv.zip’ saved [26962657/26962657]\n",
      "\n",
      "Archive:  imdb_dataset.csv.zip\n",
      "  inflating: IMDB Dataset.csv        \n"
     ]
    }
   ],
   "source": [
    "!wget https://github.com/finiteautomata/imdb-dataset/raw/master/imdb_dataset.csv.zip\n",
    "!unzip imdb_dataset.csv.zip"
   ]
  },
  {
   "cell_type": "markdown",
   "metadata": {
    "colab_type": "text",
    "id": "pUldpADdrgTH"
   },
   "source": [
    "## Método de la Potencia"
   ]
  },
  {
   "cell_type": "code",
   "execution_count": 1,
   "metadata": {
    "colab": {},
    "colab_type": "code",
    "id": "pPF2JzZk1TfO"
   },
   "outputs": [],
   "source": [
    "import numpy as np\n",
    "\n",
    "def power_iteration(A, niter=1000, eps=1e-6):\n",
    "    b = np.random.rand(A.shape[1])\n",
    "    b = b / np.linalg.norm(b)\n",
    "\n",
    "    for i in range(niter):\n",
    "        old = b\n",
    "        b = A @ b\n",
    "        b = b / np.linalg.norm(b)\n",
    "\n",
    "        # <a, b> = |a| |b| cos(angle)\n",
    "        # -1 < cos(angle) < 1\n",
    "        cos_angle = np.dot(b, old)\n",
    "        if (1 - eps) < cos_angle <= 1:\n",
    "            print(f\"Paré en la iteración {i+1}\")\n",
    "            break\n",
    "\n",
    "    eigenvalue = np.dot(b, A @ b)\n",
    "    return eigenvalue, b\n"
   ]
  },
  {
   "cell_type": "code",
   "execution_count": 2,
   "metadata": {
    "colab": {},
    "colab_type": "code",
    "id": "M9We3yXw5iUl"
   },
   "outputs": [],
   "source": [
    "D = np.diag(range(5000, 0, -1))\n",
    "\n",
    "v = np.ones((D.shape[0], 1))\n",
    "v = v / np.linalg.norm(v)\n",
    "\n",
    "# Matriz de Householder\n",
    "B = np.eye(D.shape[0]) - 2 * (v @ v.T)\n",
    "\n",
    "# Matriz ya diagonalizada\n",
    "M = D\n",
    "\n"
   ]
  },
  {
   "cell_type": "code",
   "execution_count": 3,
   "metadata": {
    "colab": {
     "base_uri": "https://localhost:8080/",
     "height": 52
    },
    "colab_type": "code",
    "executionInfo": {
     "elapsed": 69234,
     "status": "ok",
     "timestamp": 1590799157436,
     "user": {
      "displayName": "FisicArg",
      "photoUrl": "https://lh3.googleusercontent.com/a-/AOh14Gi8oL9AHRVgWy_wv7yIDWMlz8YSlHMEnPv4flbqwg=s64",
      "userId": "13342080252696210500"
     },
     "user_tz": 180
    },
    "id": "7k0-OqXb1lMB",
    "outputId": "5967c4b6-3855-4156-bbcd-5d66823b4e30"
   },
   "outputs": [
    {
     "name": "stdout",
     "output_type": "stream",
     "text": [
      "CPU times: user 37 s, sys: 14.2 s, total: 51.2 s\n",
      "Wall time: 51.3 s\n"
     ]
    }
   ],
   "source": [
    "%%time\n",
    "l, v = power_iteration(M, niter=1000, eps=1e-7)\n",
    "\n"
   ]
  },
  {
   "cell_type": "code",
   "execution_count": 4,
   "metadata": {
    "colab": {
     "base_uri": "https://localhost:8080/",
     "height": 69
    },
    "colab_type": "code",
    "executionInfo": {
     "elapsed": 68138,
     "status": "ok",
     "timestamp": 1590799157446,
     "user": {
      "displayName": "FisicArg",
      "photoUrl": "https://lh3.googleusercontent.com/a-/AOh14Gi8oL9AHRVgWy_wv7yIDWMlz8YSlHMEnPv4flbqwg=s64",
      "userId": "13342080252696210500"
     },
     "user_tz": 180
    },
    "id": "FfhA3rkZ74sr",
    "outputId": "97c04917-e259-4adb-a154-78968b76338f"
   },
   "outputs": [
    {
     "data": {
      "text/plain": [
       "(4998.071162523326,\n",
       " array([0.59514756, 0.47850136, 0.30614715, ..., 0.        , 0.        ,\n",
       "        0.        ]))"
      ]
     },
     "execution_count": 4,
     "metadata": {},
     "output_type": "execute_result"
    }
   ],
   "source": [
    "l, v"
   ]
  },
  {
   "cell_type": "code",
   "execution_count": null,
   "metadata": {
    "colab": {},
    "colab_type": "code",
    "id": "QHgIjTT4qzCY"
   },
   "outputs": [],
   "source": [
    "\n",
    "\n",
    "def eigen(A, num=2, **kwargs):\n",
    "    A = A.copy()\n",
    "    eigenvalues = []\n",
    "    eigenvectors = np.zeros((A.shape[0], num))\n",
    "    for i in range(num):\n",
    "        print(f\"Autovalor {i+1}\")\n",
    "        l, v = power_iteration(A, **kwargs)\n",
    "        eigenvalues.append(l)\n",
    "        eigenvectors[:, i] = v\n",
    "        \n",
    "        A = A - l * np.outer(v, v)\n",
    "        \n",
    "    return np.array(eigenvalues), eigenvectors\n"
   ]
  },
  {
   "cell_type": "markdown",
   "metadata": {
    "colab_type": "text",
    "id": "6ErkQclkrpol"
   },
   "source": [
    "Veamos algunos ejemplos..."
   ]
  },
  {
   "cell_type": "code",
   "execution_count": 7,
   "metadata": {
    "colab": {
     "base_uri": "https://localhost:8080/",
     "height": 642
    },
    "colab_type": "code",
    "executionInfo": {
     "elapsed": 67449,
     "status": "ok",
     "timestamp": 1590799159192,
     "user": {
      "displayName": "FisicArg",
      "photoUrl": "https://lh3.googleusercontent.com/a-/AOh14Gi8oL9AHRVgWy_wv7yIDWMlz8YSlHMEnPv4flbqwg=s64",
      "userId": "13342080252696210500"
     },
     "user_tz": 180
    },
    "id": "cgra3OV0ruZb",
    "outputId": "3af1e2ff-9ac6-4edc-85a8-6aca4476e592"
   },
   "outputs": [
    {
     "name": "stdout",
     "output_type": "stream",
     "text": [
      "Autovalor 1\n",
      "Paré en la iteración 264\n",
      "Autovalor 2\n",
      "Paré en la iteración 479\n",
      "Autovalor 3\n",
      "Paré en la iteración 444\n",
      "Autovalor 4\n",
      "Paré en la iteración 363\n",
      "Autovalor 5\n",
      "Paré en la iteración 445\n",
      "Autovalor 6\n",
      "Paré en la iteración 401\n",
      "Autovalor 7\n",
      "Paré en la iteración 557\n",
      "Autovalor 8\n",
      "Paré en la iteración 320\n",
      "Autovalor 9\n",
      "Paré en la iteración 340\n",
      "Autovalor 10\n",
      "Paré en la iteración 441\n"
     ]
    },
    {
     "data": {
      "text/plain": [
       "(array([999.22851723, 998.14358413, 998.12198757, 994.9198474 ,\n",
       "        996.42284945, 994.21450082, 996.1572753 , 992.69502902,\n",
       "        990.20715475, 992.33721378]),\n",
       " array([[-0.76423668,  0.55251185, -0.20096487, ...,  0.07870578,\n",
       "          0.02896386, -0.03966811],\n",
       "        [-0.47371245, -0.35078725,  0.78682323, ...,  0.04043572,\n",
       "          0.01813748, -0.07429197],\n",
       "        [-0.36408407, -0.48829496, -0.39857115, ..., -0.13066376,\n",
       "         -0.00997835,  0.04712873],\n",
       "        ...,\n",
       "        [ 0.0044083 ,  0.00302146,  0.0017227 , ...,  0.00255541,\n",
       "          0.00196088,  0.00187854],\n",
       "        [ 0.0044083 ,  0.00302146,  0.0017227 , ...,  0.00255541,\n",
       "          0.00196088,  0.00187854],\n",
       "        [ 0.0044083 ,  0.00302146,  0.0017227 , ...,  0.00255541,\n",
       "          0.00196088,  0.00187854]]))"
      ]
     },
     "execution_count": 7,
     "metadata": {
      "tags": []
     },
     "output_type": "execute_result"
    }
   ],
   "source": [
    "D = np.diag(range(1000, 0, -1))\n",
    "\n",
    "v = np.ones((D.shape[0], 1))\n",
    "v = v / np.linalg.norm(v)\n",
    "\n",
    "# Matriz de Householder\n",
    "B = np.eye(D.shape[0]) - 2 * (v @ v.T)\n",
    "\n",
    "# Matriz ya diagonalizada\n",
    "M = B.T @ D @ B\n",
    "\n",
    "eigen(M, 10, niter=1000, eps=1e-6)"
   ]
  },
  {
   "cell_type": "markdown",
   "metadata": {
    "colab_type": "text",
    "id": "BoTZ3W67rxI-"
   },
   "source": [
    "## Volvamos a Análisis de Sentimiento"
   ]
  },
  {
   "cell_type": "code",
   "execution_count": 8,
   "metadata": {
    "colab": {
     "base_uri": "https://localhost:8080/",
     "height": 52
    },
    "colab_type": "code",
    "executionInfo": {
     "elapsed": 55658,
     "status": "ok",
     "timestamp": 1590799160294,
     "user": {
      "displayName": "FisicArg",
      "photoUrl": "https://lh3.googleusercontent.com/a-/AOh14Gi8oL9AHRVgWy_wv7yIDWMlz8YSlHMEnPv4flbqwg=s64",
      "userId": "13342080252696210500"
     },
     "user_tz": 180
    },
    "id": "s5S1vfeQoAmw",
    "outputId": "5e9a6f40-ba80-44cd-a3b4-fee4b3655201"
   },
   "outputs": [
    {
     "name": "stdout",
     "output_type": "stream",
     "text": [
      "Class balance : 0.5007 pos 0.4993 neg\n",
      "Cantidad de documentos: 50000\n"
     ]
    }
   ],
   "source": [
    "import pandas as pd \n",
    "import sklearn\n",
    "\n",
    "df = pd.read_csv(\"IMDB Dataset.csv\")\n",
    "df = df.sample(frac=1, random_state=2020)\n",
    "\n",
    "df_train = df[:10000]\n",
    "df_test = df[10000:13000]\n",
    "\n",
    "text_train, text_test = df_train[\"review\"], df_test[\"review\"]\n",
    "label_train, label_test = df_train[\"sentiment\"], df_test[\"sentiment\"]\n",
    "\n",
    "print(\"Class balance : {} pos {} neg\".format(\n",
    "    (label_train == 'positive').sum() / label_train.shape[0], \n",
    "    (label_train == 'negative').sum() / label_train.shape[0]\n",
    "))\n",
    "print(\"Cantidad de documentos: {}\".format(df.shape[0]))"
   ]
  },
  {
   "cell_type": "markdown",
   "metadata": {
    "colab_type": "text",
    "id": "6P0JHXO_I7iv"
   },
   "source": [
    "Veamos qué forma tienen los datos"
   ]
  },
  {
   "cell_type": "code",
   "execution_count": null,
   "metadata": {
    "colab": {},
    "colab_type": "code",
    "id": "TYUymFYCrDxa"
   },
   "outputs": [],
   "source": [
    "from sklearn.feature_extraction.text import CountVectorizer\n",
    "\n",
    "vect = CountVectorizer(min_df=4, max_df=0.80, max_features=6000, binary=True)\n",
    "\n",
    "vect.fit(text_train)\n",
    "\n",
    "X_train = vect.transform(text_train)\n",
    "X_test = vect.transform(text_test)\n",
    "\n",
    "y_train = label_train# == 'positive' # Convertimos a vectores booleanos\n",
    "y_test = label_test# == \"positive\""
   ]
  },
  {
   "cell_type": "markdown",
   "metadata": {
    "colab_type": "text",
    "id": "Jc4fmbpMPu1M"
   },
   "source": [
    "## PCA\n",
    "\n",
    "Vamos a ver una técnica para reducir la dimensionalidad y aún así mantener la mayor cantidad de información posible.\n",
    "\n",
    "Recordemos que, dada X su matriz de covarianza $M_X$ es\n",
    "\n",
    "$$ M_X = \\frac{X^T X}{n-1} $$\n",
    "\n",
    "En primer lugar, calculemos la matriz de covarianza de $X_{train}$"
   ]
  },
  {
   "cell_type": "code",
   "execution_count": null,
   "metadata": {
    "colab": {},
    "colab_type": "code",
    "id": "znT2NgA2PwFM"
   },
   "outputs": [],
   "source": [
    "import numpy as np\n",
    "\n",
    "# Esto es porque me lo convierte a np.matrix si no\n",
    "X = np.array(X_train - X_train.mean(axis=0))\n",
    "\n",
    "cov_matrix = X.T @ X / (M.shape[0]-1) "
   ]
  },
  {
   "cell_type": "markdown",
   "metadata": {
    "colab_type": "text",
    "id": "lniiLCAmNSRt"
   },
   "source": [
    "Usemos `np.linalg.eig` para diagonalizar la matriz"
   ]
  },
  {
   "cell_type": "code",
   "execution_count": 11,
   "metadata": {
    "colab": {
     "base_uri": "https://localhost:8080/",
     "height": 1000
    },
    "colab_type": "code",
    "executionInfo": {
     "elapsed": 565171,
     "status": "ok",
     "timestamp": 1590799685368,
     "user": {
      "displayName": "FisicArg",
      "photoUrl": "https://lh3.googleusercontent.com/a-/AOh14Gi8oL9AHRVgWy_wv7yIDWMlz8YSlHMEnPv4flbqwg=s64",
      "userId": "13342080252696210500"
     },
     "user_tz": 180
    },
    "id": "D7NTZcwXFQda",
    "outputId": "3c8319b0-a9dd-41dd-a512-15423ba3ca31"
   },
   "outputs": [
    {
     "name": "stdout",
     "output_type": "stream",
     "text": [
      "Autovalor 1\n",
      "Paré en la iteración 9\n",
      "Autovalor 2\n",
      "Paré en la iteración 20\n",
      "Autovalor 3\n",
      "Autovalor 4\n",
      "Paré en la iteración 135\n",
      "Autovalor 5\n",
      "Paré en la iteración 120\n",
      "Autovalor 6\n",
      "Paré en la iteración 176\n",
      "Autovalor 7\n",
      "Paré en la iteración 213\n",
      "Autovalor 8\n",
      "Paré en la iteración 198\n",
      "Autovalor 9\n",
      "Autovalor 10\n",
      "Paré en la iteración 251\n",
      "Autovalor 11\n",
      "Autovalor 12\n",
      "Paré en la iteración 190\n",
      "Autovalor 13\n",
      "Paré en la iteración 266\n",
      "Autovalor 14\n",
      "Autovalor 15\n",
      "Autovalor 16\n",
      "Paré en la iteración 282\n",
      "Autovalor 17\n",
      "Autovalor 18\n",
      "Autovalor 19\n",
      "Autovalor 20\n",
      "Autovalor 21\n",
      "Autovalor 22\n",
      "Autovalor 23\n",
      "Autovalor 24\n",
      "Autovalor 25\n",
      "Autovalor 26\n",
      "Autovalor 27\n",
      "Autovalor 28\n",
      "Autovalor 29\n",
      "Autovalor 30\n",
      "Autovalor 31\n",
      "Autovalor 32\n",
      "Autovalor 33\n",
      "Autovalor 34\n",
      "Autovalor 35\n",
      "Autovalor 36\n",
      "Autovalor 37\n",
      "Autovalor 38\n",
      "Autovalor 39\n",
      "Autovalor 40\n",
      "Autovalor 41\n",
      "Autovalor 42\n",
      "Autovalor 43\n",
      "Autovalor 44\n",
      "Autovalor 45\n",
      "Autovalor 46\n",
      "Autovalor 47\n",
      "Autovalor 48\n",
      "Autovalor 49\n",
      "Autovalor 50\n",
      "CPU times: user 16min 24s, sys: 15.5 s, total: 16min 40s\n",
      "Wall time: 8min 28s\n"
     ]
    }
   ],
   "source": [
    "%%time\n",
    "w, V = eigen(cov_matrix, num=50, niter=500, eps=1e-12)"
   ]
  },
  {
   "cell_type": "markdown",
   "metadata": {
    "colab_type": "text",
    "id": "EHwsJUibx-64"
   },
   "source": [
    "A ver los autovalores..."
   ]
  },
  {
   "cell_type": "code",
   "execution_count": 13,
   "metadata": {
    "colab": {
     "base_uri": "https://localhost:8080/",
     "height": 282
    },
    "colab_type": "code",
    "executionInfo": {
     "elapsed": 812,
     "status": "ok",
     "timestamp": 1590799705495,
     "user": {
      "displayName": "FisicArg",
      "photoUrl": "https://lh3.googleusercontent.com/a-/AOh14Gi8oL9AHRVgWy_wv7yIDWMlz8YSlHMEnPv4flbqwg=s64",
      "userId": "13342080252696210500"
     },
     "user_tz": 180
    },
    "id": "gvsfaDkDP7cy",
    "outputId": "84cff62f-4fc7-45e7-f9a3-7bffdf913165"
   },
   "outputs": [
    {
     "data": {
      "text/plain": [
       "[<matplotlib.lines.Line2D at 0x7f0f58dcf3c8>]"
      ]
     },
     "execution_count": 13,
     "metadata": {
      "tags": []
     },
     "output_type": "execute_result"
    },
    {
     "data": {
      "image/png": "[encoded data removed]",
      "text/plain": [
       "<Figure size 432x288 with 1 Axes>"
      ]
     },
     "metadata": {
      "needs_background": "light",
      "tags": []
     },
     "output_type": "display_data"
    }
   ],
   "source": [
    "import matplotlib.pyplot as plt\n",
    "\n",
    "plt.plot(w)"
   ]
  },
  {
   "cell_type": "markdown",
   "metadata": {
    "colab_type": "text",
    "id": "Y-Uz7baIP80E"
   },
   "source": [
    "## Recordando cambios de base y otros yuyos\n",
    "\n",
    "Sup $M_X$ es la matriz de la covarianza, \n",
    "\n",
    "$$ M_X = \\frac{X^T X}{n-1} $$\n",
    "\n",
    "Si $B = \\{v_1, \\ldots , v_n\\}$ es la base ortogonal de autovectores de $M_X$ entonces la matriz cambio de base de $B$ a la base canónica ($E$) se escribe como la matriz cuyas columnas son los respectivos vectores\n",
    "\n",
    "$$C_{B, E} = V = \\begin{bmatrix}\n",
    "        &     & \\ldots &     \\\\\n",
    "    v_1 & v_2 & \\ldots & v_n \\\\\n",
    "        &     & \\ldots &     \\\\\n",
    "\\end{bmatrix}\n",
    "$$\n",
    "\n",
    "\n",
    "La matriz inversa de ésta es la cambio de base de $E$ a $B$. Es decir $C_{E, B} = C_{B, E}^{-1}$. Como nuestra base es ortogonal, tenemos\n",
    "\n",
    "$$ C_{E, B} = C_{B, E}^T = V^T = \\begin{bmatrix}\n",
    "& & v_1   & &\\\\\n",
    "& & v_2   & &\\\\\n",
    "& &\\vdots & & \\\\\n",
    "& & v_n   & & \\\\\n",
    "\\end{bmatrix}\n",
    "$$\n",
    "\n",
    "Es decir, la matriz que consiste de apilar los vectores fila de la base $B$.\n",
    "\n",
    "\n",
    "### Cambiando de base nuestras instancias de entrenamiento\n",
    "\n",
    "Nuestras matrices $X \\in R^{n \\times m}$ con $n$ igual a la cantidad de instancias de entrenamiento, y $m$ la cantidad de variables\n",
    "\n",
    "Tenemos entonces\n",
    "\n",
    "$$ X = \\begin{bmatrix}\n",
    "& & x^{(1)}   & &\\\\\n",
    "& & x^{(2)}   & &\\\\\n",
    "& &\\vdots & & \\\\\n",
    "& & v_n   & & \\\\\n",
    "\\end{bmatrix}\n",
    "$$\n",
    "\n",
    "Si $x$ es una instancia de entrenamiento a la cual queremos cambiar de base, queremos hacer\n",
    "\n",
    "$$\\overline x = V^T x$$\n",
    "\n",
    "Luego, si queremos cambiar de base cada instancia, hacemos...\n",
    "\n",
    "$$ V^T X^T = V^T \\begin{bmatrix}\n",
    "        & &    & &\\\\\n",
    "x^{(1)}& x^{(2)} &\\ldots & x ^{(n-1)} & x ^{(n)} \\\\\n",
    "& & & & \\\\\n",
    "\\end{bmatrix} = \\begin{bmatrix}\n",
    "        & &    & &\\\\\n",
    "V^T x^{(1)}& V^T x^{(2)} &\\ldots & V^T x ^{(n-1)} & V^T x ^{(n)} \\\\\n",
    "& & & & \\\\\n",
    "\\end{bmatrix} = \\begin{bmatrix}\n",
    "        & &    & &\\\\\n",
    "\\overline{x^{(1)}}& \\overline{x^{(2)}} &\\ldots & \\overline{x^{(n-1)}} & \\overline{x^{(n)}} \\\\\n",
    "& & & & \\\\\n",
    "\\end{bmatrix}\n",
    "$$\n",
    "\n",
    "Ahora, lo que necesitamos es que cada instancia esté en una fila, así que trasponemos\n",
    "\n",
    "$$\n",
    "\\overline{X} = (V^T X^T)^T = X V\n",
    "$$"
   ]
  },
  {
   "cell_type": "markdown",
   "metadata": {
    "colab_type": "text",
    "id": "5siYDx08KjN6"
   },
   "source": [
    "## Ejercicio:\n",
    "\n",
    "1. Implementar el cambio de base usando su implementación del método de la potencia\n",
    "2. Experimentar con distintos $\\alpha$. ¿Cómo afecta la accuracy de nuestro algoritmo? ¿Es más rápido (en tiempo)?"
   ]
  },
  {
   "cell_type": "code",
   "execution_count": 14,
   "metadata": {
    "colab": {
     "base_uri": "https://localhost:8080/",
     "height": 34
    },
    "colab_type": "code",
    "executionInfo": {
     "elapsed": 772,
     "status": "ok",
     "timestamp": 1590799712788,
     "user": {
      "displayName": "FisicArg",
      "photoUrl": "https://lh3.googleusercontent.com/a-/AOh14Gi8oL9AHRVgWy_wv7yIDWMlz8YSlHMEnPv4flbqwg=s64",
      "userId": "13342080252696210500"
     },
     "user_tz": 180
    },
    "id": "7rcCWPHPMdle",
    "outputId": "4fa0c556-cb33-4246-d840-f9fe5ddd157e"
   },
   "outputs": [
    {
     "data": {
      "text/plain": [
       "(6000, 50)"
      ]
     },
     "execution_count": 14,
     "metadata": {
      "tags": []
     },
     "output_type": "execute_result"
    }
   ],
   "source": [
    "V.shape"
   ]
  },
  {
   "cell_type": "code",
   "execution_count": null,
   "metadata": {
    "colab": {},
    "colab_type": "code",
    "id": "JjnwHXZISV-P"
   },
   "outputs": [],
   "source": [
    "X_pca_train = X_train @ V[:, :30]\n",
    "X_pca_test = X_test @ V[:, :30]"
   ]
  },
  {
   "cell_type": "markdown",
   "metadata": {
    "colab_type": "text",
    "id": "a49NYmvxK1yn"
   },
   "source": [
    "Entrenar ahora el clasificador usando estas nuevas instancias[]"
   ]
  },
  {
   "cell_type": "code",
   "execution_count": 16,
   "metadata": {
    "colab": {
     "base_uri": "https://localhost:8080/",
     "height": 69
    },
    "colab_type": "code",
    "executionInfo": {
     "elapsed": 1464,
     "status": "ok",
     "timestamp": 1590799718603,
     "user": {
      "displayName": "FisicArg",
      "photoUrl": "https://lh3.googleusercontent.com/a-/AOh14Gi8oL9AHRVgWy_wv7yIDWMlz8YSlHMEnPv4flbqwg=s64",
      "userId": "13342080252696210500"
     },
     "user_tz": 180
    },
    "id": "8Onn-oAeuyGt",
    "outputId": "a973322c-f79f-4a4a-9e51-37d53e0a4901"
   },
   "outputs": [
    {
     "data": {
      "text/plain": [
       "KNeighborsClassifier(algorithm='auto', leaf_size=30, metric='minkowski',\n",
       "                     metric_params=None, n_jobs=None, n_neighbors=50, p=2,\n",
       "                     weights='uniform')"
      ]
     },
     "execution_count": 16,
     "metadata": {
      "tags": []
     },
     "output_type": "execute_result"
    }
   ],
   "source": [
    "from sklearn.neighbors import KNeighborsClassifier\n",
    "\n",
    "clf = KNeighborsClassifier(n_neighbors=50)\n",
    "clf.fit(X_pca_train, y_train)"
   ]
  },
  {
   "cell_type": "code",
   "execution_count": 17,
   "metadata": {
    "colab": {
     "base_uri": "https://localhost:8080/",
     "height": 69
    },
    "colab_type": "code",
    "executionInfo": {
     "elapsed": 3074,
     "status": "ok",
     "timestamp": 1590799720953,
     "user": {
      "displayName": "FisicArg",
      "photoUrl": "https://lh3.googleusercontent.com/a-/AOh14Gi8oL9AHRVgWy_wv7yIDWMlz8YSlHMEnPv4flbqwg=s64",
      "userId": "13342080252696210500"
     },
     "user_tz": 180
    },
    "id": "6LRgcyWzSgRZ",
    "outputId": "93cc4be8-68f6-4f40-8f1c-c3bc455b21bc"
   },
   "outputs": [
    {
     "name": "stdout",
     "output_type": "stream",
     "text": [
      "Accuracy: 0.778\n",
      "CPU times: user 2.11 s, sys: 1.15 ms, total: 2.11 s\n",
      "Wall time: 2.11 s\n"
     ]
    }
   ],
   "source": [
    "%%time\n",
    "from sklearn.metrics import accuracy_score\n",
    "y_pred = clf.predict(X_pca_test)\n",
    "\n",
    "acc = accuracy_score(y_test, y_pred)\n",
    "print(\"Accuracy: {}\".format(acc))"
   ]
  },
  {
   "cell_type": "code",
   "execution_count": null,
   "metadata": {
    "colab": {},
    "colab_type": "code",
    "id": "Iyw07yDyMYHr"
   },
   "outputs": [],
   "source": []
  }
 ],
 "metadata": {
  "colab": {
   "collapsed_sections": [],
   "name": "Copy of PCA+KNN.ipynb",
   "provenance": [
    {
     "file_id": "1GBxgFF20GADq8xaC8oSQXoTF5zG8dZjL",
     "timestamp": 1590799048456
    }
   ]
  },
  "kernelspec": {
   "display_name": "Python 3",
   "language": "python",
   "name": "python3"
  },
  "language_info": {
   "codemirror_mode": {
    "name": "ipython",
    "version": 3
   },
   "file_extension": ".py",
   "mimetype": "text/x-python",
   "name": "python",
   "nbconvert_exporter": "python",
   "pygments_lexer": "ipython3",
   "version": "3.8.3"
  }
 },
 "nbformat": 4,
 "nbformat_minor": 2
}
